{
  "nbformat": 4,
  "nbformat_minor": 0,
  "metadata": {
    "colab": {
      "provenance": [],
      "authorship_tag": "ABX9TyMrYvkdzTUEI46abS5RaFqX",
      "include_colab_link": true
    },
    "kernelspec": {
      "name": "python3",
      "display_name": "Python 3"
    },
    "language_info": {
      "name": "python"
    }
  },
  "cells": [
    {
      "cell_type": "markdown",
      "metadata": {
        "id": "view-in-github",
        "colab_type": "text"
      },
      "source": [
        "<a href=\"https://colab.research.google.com/github/kangmg/compchem_with_colab/blob/main/ase_xtb.ipynb\" target=\"_parent\"><img src=\"https://colab.research.google.com/assets/colab-badge.svg\" alt=\"Open In Colab\"/></a>"
      ]
    },
    {
      "cell_type": "code",
      "source": [
        "# clear cell output\n",
        "from IPython.display import clear_output"
      ],
      "metadata": {
        "id": "tpQGAMvLgK1e"
      },
      "execution_count": 44,
      "outputs": []
    },
    {
      "cell_type": "code",
      "source": [
        "# xtb installation\n",
        "!wget -q https://github.com/grimme-lab/xtb/releases/download/v6.6.1/xtb-6.6.1-linux-x86_64.tar.xz -O ./xtb.tar.xz\n",
        "!tar vxf ./xtb.tar.xz\n",
        "!rm ./xtb.tar.xz\n",
        "!mkdir xtb_tmp\n",
        "clear_output()\n",
        "!echo \"xtb successfully installed!\""
      ],
      "metadata": {
        "colab": {
          "base_uri": "https://localhost:8080/"
        },
        "id": "WkwMMCdSchVu",
        "outputId": "d479646a-2cc9-48ff-cc7d-d26c2bd7c7dc"
      },
      "execution_count": 2,
      "outputs": [
        {
          "output_type": "stream",
          "name": "stdout",
          "text": [
            "xtb downloaded!\n"
          ]
        }
      ]
    },
    {
      "cell_type": "code",
      "source": [
        "!pip -q install git+https://github.com/cclib/cclib.git    # compchem package\n",
        "!pip -q install git+https://gitlab.com/ase/ase.git        # ase\n",
        "!pip -q install git+https://github.com/kangmg/xtb_ase.git # ase_xtb\n",
        "\n",
        "clear_output()\n",
        "!echo \"dependent packaged are successfully installed!\""
      ],
      "metadata": {
        "id": "I7m5vlEAlZo8"
      },
      "execution_count": 3,
      "outputs": []
    },
    {
      "cell_type": "code",
      "source": [
        "# xtb enviromental setting\n",
        "import os\n",
        "os.environ['PATH'] += ':/content/xtb-6.6.1/bin'"
      ],
      "metadata": {
        "id": "6NkffTT_2uGy"
      },
      "execution_count": null,
      "outputs": []
    },
    {
      "cell_type": "code",
      "source": [
        "aspirin = \"\"\"21\n",
        "\n",
        "C          2.45639       -0.16543        0.39727\n",
        "C          0.78890        2.02854       -0.64816\n",
        "C          2.74071        1.02327        0.12533\n",
        "C          2.05734        2.11782       -0.40016\n",
        "C         -3.59396        1.03209        0.04589\n",
        "C          0.67738       -0.27507        0.15097\n",
        "C          0.00274        0.84234       -0.35887\n",
        "O          0.63293       -2.54526        0.93360\n",
        "O         -1.76452        1.43252        1.56571\n",
        "O         -1.24894       -1.68411        0.12975\n",
        "C          0.05278       -1.58881        0.44958\n",
        "C         -2.15199        1.12841        0.44513\n",
        "O         -1.36167        0.82832       -0.65825\n",
        "H         -1.47652       -2.60111        0.39232\n",
        "H          2.60948       -1.11173        0.80284\n",
        "H          0.15708        2.88266       -1.05823\n",
        "H          3.80777        1.09126        0.32364\n",
        "H          2.59044        3.04081       -0.61405\n",
        "H         -3.81640        0.02049       -0.30287\n",
        "H         -4.22480        1.24591        0.91440\n",
        "H         -3.81296        1.76576       -0.73332\"\"\""
      ],
      "metadata": {
        "id": "oO-HYlsi5Dpf"
      },
      "execution_count": 34,
      "outputs": []
    },
    {
      "cell_type": "code",
      "source": [
        "# utils\n",
        "from io import StringIO\n",
        "\n",
        "# ase / xtb\n",
        "import ase\n",
        "from ase.io import read\n",
        "from xtb_ase import XTB\n",
        "from ase.optimize import BFGS\n",
        "\n",
        "\n",
        "aspirin_mol:ase.Atoms = read(StringIO(aspirin), format=\"xyz\")\n",
        "\n",
        "aspirin_mol.calc = XTB(m,)\n",
        "\n",
        "print(f\"pre-opt : {aspirin_mol.get_potential_energy()}\\n\")\n",
        "\n",
        "optimizer = BFGS(aspirin_mol)\n",
        "\n",
        "optimizer.run()\n",
        "\n",
        "print(\"\\nopt : \", aspirin_mol.get_potential_energy())"
      ],
      "metadata": {
        "colab": {
          "base_uri": "https://localhost:8080/"
        },
        "id": "M9266Vky2Z5d",
        "outputId": "48975ef6-38c5-4533-eb63-75758efc8d51"
      },
      "execution_count": 36,
      "outputs": [
        {
          "output_type": "stream",
          "name": "stdout",
          "text": [
            "pre-opt : -39.519190020128\n",
            "\n",
            "      Step     Time          Energy          fmax\n",
            "BFGS:    0 19:48:32      -39.519190       10.991238\n",
            "BFGS:    1 19:48:33      -39.581955        8.030148\n",
            "BFGS:    2 19:48:33      -39.608381        3.840010\n",
            "BFGS:    3 19:48:33      -39.619962        1.675427\n",
            "BFGS:    4 19:48:33      -39.623319        0.997034\n",
            "BFGS:    5 19:48:33      -39.626236        0.730927\n",
            "BFGS:    6 19:48:33      -39.626800        0.477471\n",
            "BFGS:    7 19:48:33      -39.627223        0.245073\n",
            "BFGS:    8 19:48:33      -39.627442        0.287164\n",
            "BFGS:    9 19:48:33      -39.627640        0.158353\n",
            "BFGS:   10 19:48:33      -39.627726        0.141911\n",
            "BFGS:   11 19:48:33      -39.627771        0.112625\n",
            "BFGS:   12 19:48:33      -39.627812        0.100507\n",
            "BFGS:   13 19:48:33      -39.627843        0.074500\n",
            "BFGS:   14 19:48:33      -39.627863        0.038365\n",
            "\n",
            "opt :  -39.627863282763\n"
          ]
        }
      ]
    },
    {
      "cell_type": "code",
      "source": [
        "# utils\n",
        "from io import StringIO\n",
        "from IPython.display import clear_output\n",
        "\n",
        "# ase / xtb\n",
        "import ase\n",
        "from ase.io import read\n",
        "from xtb_ase import XTB\n",
        "from ase.optimize import BFGS\n",
        "\n",
        "def xtb_optimize(mol:str|ase.Atoms, charge:int, method:str=\"gfn2-xTB\", spinpol:bool|None=None, uhf:int=0, clear_log=False):\n",
        "  \"\"\"\n",
        "  Description\n",
        "  -----------\n",
        "  xtb geometry optimize 함수\n",
        "\n",
        "  Parameters\n",
        "  ----------\n",
        "  mol (xyz format string | ase.Atoms) :\n",
        "  charge (int) :\n",
        "  method (str) :\n",
        "  spinpol ( bool | None ) :\n",
        "  uhf (int) :\n",
        "  tmp_dir (str) :\n",
        "\n",
        "  Returns\n",
        "  -------\n",
        "  optimized xyz (str) :\n",
        "  \"\"\"\n",
        "\n",
        "  # convert xyz format --> ase.Atoms\n",
        "  if type(mol) == str:\n",
        "    try:\n",
        "      mol = ase.io.read(StringIO(mol), format=\"xyz\")\n",
        "    except:\n",
        "      raise ValueError(\"Invalid xyz format string\")\n",
        "\n",
        "  # set XTB calculator\n",
        "  mol.calc = XTB(method=method, charge=charge, spinpol=spinpol, uhf=uhf)\n",
        "  # geometry optimize\n",
        "  optimizer = BFGS(mol)\n",
        "  optimizer.run()\n",
        "\n",
        "  # get xyz format string\n",
        "  with StringIO() as output:\n",
        "    ase.io.write(output, mol, format=\"xyz\")\n",
        "    opt_xyz = output.getvalue()\n",
        "\n",
        "  # clear cell output\n",
        "  if clear_log:\n",
        "    clear_output()\n",
        "\n",
        "  return opt_xyz"
      ],
      "metadata": {
        "id": "1QfH0a4N9HEM"
      },
      "execution_count": 49,
      "outputs": []
    },
    {
      "cell_type": "code",
      "source": [
        "print(xtb_optimize(aspirin, 0, clear_log=True))"
      ],
      "metadata": {
        "colab": {
          "base_uri": "https://localhost:8080/"
        },
        "id": "Swf2eta_G6Pg",
        "outputId": "cc413e1f-db2a-4e5b-bda1-492a3a74f039"
      },
      "execution_count": 52,
      "outputs": [
        {
          "output_type": "stream",
          "name": "stdout",
          "text": [
            "21\n",
            "\n",
            "C       2.096257843916880     -0.164742044176155      0.374260564243741\n",
            "C       0.723261465970201      2.009086403739904     -0.633950159649945\n",
            "C       2.771656024519402      1.010376090280658      0.117628565586992\n",
            "C       2.083962227726616      2.097636023710908     -0.397669307214821\n",
            "C      -3.587874959095477      1.027843734912582      0.047990427678304\n",
            "C       0.723255779519428     -0.273081225858182      0.147341093220439\n",
            "C       0.035605802066217      0.836495136448088     -0.353957312491734\n",
            "O       0.698940182050824     -2.510017358016377      0.939377639050611\n",
            "O      -1.735926659475403      1.417268049992791      1.536900413331231\n",
            "O      -1.200474609949215     -1.670412890191387      0.144589751722368\n",
            "C       0.098487044162888     -1.581252182425427      0.459017266945291\n",
            "C      -2.142027365043912      1.112465686131596      0.450792126801404\n",
            "O      -1.334229611245795      0.809308901592228     -0.586786616034317\n",
            "H      -1.527265720903839     -2.555850255383092      0.370158112829227\n",
            "H       2.611676331170479     -1.028544557228434      0.765439710927870\n",
            "H       0.173573050558313      2.850816220085504     -1.029356060340602\n",
            "H       3.828482498114675      1.081208335785699      0.322267123283031\n",
            "H       2.603894527575598      3.020520292331652     -0.607859187876182\n",
            "H      -3.799525759403249      0.030556502939711     -0.329094844368577\n",
            "H      -4.208224694873890      1.247054388159769      0.912153621847981\n",
            "H      -3.791323397360727      1.741944747167959     -0.746722929492309\n",
            "\n"
          ]
        }
      ]
    },
    {
      "cell_type": "code",
      "source": [],
      "metadata": {
        "id": "ykAdM8vdG_Zb"
      },
      "execution_count": null,
      "outputs": []
    }
  ]
}