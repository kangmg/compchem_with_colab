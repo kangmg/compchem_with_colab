{
  "nbformat": 4,
  "nbformat_minor": 0,
  "metadata": {
    "colab": {
      "provenance": [],
      "authorship_tag": "ABX9TyNp4k22xmZ/pdqtkOFnltT/",
      "include_colab_link": true
    },
    "kernelspec": {
      "name": "python3",
      "display_name": "Python 3"
    },
    "language_info": {
      "name": "python"
    }
  },
  "cells": [
    {
      "cell_type": "markdown",
      "metadata": {
        "id": "view-in-github",
        "colab_type": "text"
      },
      "source": [
        "<a href=\"https://colab.research.google.com/github/kangmg/compchem_with_colab/blob/main/ase_xtb.ipynb\" target=\"_parent\"><img src=\"https://colab.research.google.com/assets/colab-badge.svg\" alt=\"Open In Colab\"/></a>"
      ]
    },
    {
      "cell_type": "code",
      "source": [
        "# clear cell output\n",
        "from IPython.display import clear_output"
      ],
      "metadata": {
        "id": "tpQGAMvLgK1e"
      },
      "execution_count": 1,
      "outputs": []
    },
    {
      "cell_type": "code",
      "source": [
        "# xtb installation\n",
        "!wget -q https://github.com/grimme-lab/xtb/releases/download/v6.6.1/xtb-6.6.1-linux-x86_64.tar.xz -O ./xtb.tar.xz\n",
        "!tar vxf ./xtb.tar.xz\n",
        "!rm ./xtb.tar.xz\n",
        "clear_output()\n",
        "!echo \"xtb successfully installed!\"\n"
      ],
      "metadata": {
        "colab": {
          "base_uri": "https://localhost:8080/"
        },
        "id": "WkwMMCdSchVu",
        "outputId": "d479646a-2cc9-48ff-cc7d-d26c2bd7c7dc"
      },
      "execution_count": 2,
      "outputs": [
        {
          "output_type": "stream",
          "name": "stdout",
          "text": [
            "xtb downloaded!\n"
          ]
        }
      ]
    },
    {
      "cell_type": "code",
      "source": [
        "!pip -q install git+https://github.com/cclib/cclib.git    # compchem package\n",
        "!pip -q install git+https://gitlab.com/ase/ase.git        # ase\n",
        "!pip -q install git+https://github.com/kangmg/xtb_ase.git # ase_xtb\n",
        "\n",
        "clear_output()\n",
        "!echo \"dependent packaged are successfully installed!\""
      ],
      "metadata": {
        "id": "I7m5vlEAlZo8"
      },
      "execution_count": 3,
      "outputs": []
    },
    {
      "cell_type": "code",
      "source": [
        "# xtb enviromental setting\n",
        "import os\n",
        "os.environ['PATH'] += ':/content/xtb-6.6.1/bin'"
      ],
      "metadata": {
        "id": "6NkffTT_2uGy"
      },
      "execution_count": null,
      "outputs": []
    },
    {
      "cell_type": "code",
      "source": [
        "aspirin = \"\"\"21\n",
        "\n",
        "C          2.45639       -0.16543        0.39727\n",
        "C          0.78890        2.02854       -0.64816\n",
        "C          2.74071        1.02327        0.12533\n",
        "C          2.05734        2.11782       -0.40016\n",
        "C         -3.59396        1.03209        0.04589\n",
        "C          0.67738       -0.27507        0.15097\n",
        "C          0.00274        0.84234       -0.35887\n",
        "O          0.63293       -2.54526        0.93360\n",
        "O         -1.76452        1.43252        1.56571\n",
        "O         -1.24894       -1.68411        0.12975\n",
        "C          0.05278       -1.58881        0.44958\n",
        "C         -2.15199        1.12841        0.44513\n",
        "O         -1.36167        0.82832       -0.65825\n",
        "H         -1.47652       -2.60111        0.39232\n",
        "H          2.60948       -1.11173        0.80284\n",
        "H          0.15708        2.88266       -1.05823\n",
        "H          3.80777        1.09126        0.32364\n",
        "H          2.59044        3.04081       -0.61405\n",
        "H         -3.81640        0.02049       -0.30287\n",
        "H         -4.22480        1.24591        0.91440\n",
        "H         -3.81296        1.76576       -0.73332\"\"\""
      ],
      "metadata": {
        "id": "oO-HYlsi5Dpf"
      },
      "execution_count": 34,
      "outputs": []
    },
    {
      "cell_type": "code",
      "source": [
        "# utils\n",
        "from io import StringIO\n",
        "\n",
        "# ase / xtb\n",
        "import ase\n",
        "from ase.io import read\n",
        "from xtb_ase import XTB\n",
        "from ase.optimize import BFGS\n",
        "\n",
        "\n",
        "aspirin_mol:ase.Atoms = read(StringIO(aspirin), format=\"xyz\")\n",
        "\n",
        "aspirin_mol.calc = XTB()\n",
        "\n",
        "print(f\"pre-opt : {aspirin_mol.get_potential_energy()}\\n\")\n",
        "\n",
        "optimizer = BFGS(aspirin_mol)\n",
        "\n",
        "optimizer.run()\n",
        "\n",
        "print(\"\\nopt : \", aspirin_mol.get_potential_energy())"
      ],
      "metadata": {
        "colab": {
          "base_uri": "https://localhost:8080/"
        },
        "id": "M9266Vky2Z5d",
        "outputId": "48975ef6-38c5-4533-eb63-75758efc8d51"
      },
      "execution_count": 36,
      "outputs": [
        {
          "output_type": "stream",
          "name": "stdout",
          "text": [
            "pre-opt : -39.519190020128\n",
            "\n",
            "      Step     Time          Energy          fmax\n",
            "BFGS:    0 19:48:32      -39.519190       10.991238\n",
            "BFGS:    1 19:48:33      -39.581955        8.030148\n",
            "BFGS:    2 19:48:33      -39.608381        3.840010\n",
            "BFGS:    3 19:48:33      -39.619962        1.675427\n",
            "BFGS:    4 19:48:33      -39.623319        0.997034\n",
            "BFGS:    5 19:48:33      -39.626236        0.730927\n",
            "BFGS:    6 19:48:33      -39.626800        0.477471\n",
            "BFGS:    7 19:48:33      -39.627223        0.245073\n",
            "BFGS:    8 19:48:33      -39.627442        0.287164\n",
            "BFGS:    9 19:48:33      -39.627640        0.158353\n",
            "BFGS:   10 19:48:33      -39.627726        0.141911\n",
            "BFGS:   11 19:48:33      -39.627771        0.112625\n",
            "BFGS:   12 19:48:33      -39.627812        0.100507\n",
            "BFGS:   13 19:48:33      -39.627843        0.074500\n",
            "BFGS:   14 19:48:33      -39.627863        0.038365\n",
            "\n",
            "opt :  -39.627863282763\n"
          ]
        }
      ]
    },
    {
      "cell_type": "code",
      "source": [
        "aspirin_mol.calc.results[\"attributes\"][\"metadata\"]"
      ],
      "metadata": {
        "colab": {
          "base_uri": "https://localhost:8080/"
        },
        "id": "cTyzP9zG83tf",
        "outputId": "485cdbb1-a410-4f69-b3a8-4dc41e173f03"
      },
      "execution_count": 43,
      "outputs": [
        {
          "output_type": "execute_result",
          "data": {
            "text/plain": [
              "{'package': 'xTB',\n",
              " 'methods': ['GFN2-xTB'],\n",
              " 'success': True,\n",
              " 'package_version': '6.6.1',\n",
              " 'keywords': ['xtb',\n",
              "  '--chrg',\n",
              "  '0',\n",
              "  '--uhf',\n",
              "  '0',\n",
              "  '--gfn',\n",
              "  '2',\n",
              "  '--grad',\n",
              "  '--input',\n",
              "  'xtb.inp',\n",
              "  'coord.xyz',\n",
              "  '--json'],\n",
              " 'coord_type': 'xyz',\n",
              " 'wall_time': ['0:00:00.022000'],\n",
              " 'cpu_time': ['0:00:00.043000']}"
            ]
          },
          "metadata": {},
          "execution_count": 43
        }
      ]
    },
    {
      "cell_type": "code",
      "source": [],
      "metadata": {
        "id": "1QfH0a4N9HEM"
      },
      "execution_count": null,
      "outputs": []
    }
  ]
}