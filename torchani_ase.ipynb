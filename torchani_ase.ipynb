{
  "nbformat": 4,
  "nbformat_minor": 0,
  "metadata": {
    "colab": {
      "provenance": [],
      "collapsed_sections": [
        "NfHkyalA8MtH"
      ],
      "authorship_tag": "ABX9TyNf9sT3NxSSl639I6af9q2k",
      "include_colab_link": true
    },
    "kernelspec": {
      "name": "python3",
      "display_name": "Python 3"
    },
    "language_info": {
      "name": "python"
    }
  },
  "cells": [
    {
      "cell_type": "markdown",
      "metadata": {
        "id": "view-in-github",
        "colab_type": "text"
      },
      "source": [
        "<a href=\"https://colab.research.google.com/github/kangmg/compchem_with_colab/blob/main/torchani_ase.ipynb\" target=\"_parent\"><img src=\"https://colab.research.google.com/assets/colab-badge.svg\" alt=\"Open In Colab\"/></a>"
      ]
    },
    {
      "cell_type": "markdown",
      "source": [
        "https://ahy3nz.github.io/fastpayges/data%20science/molecular%20modeling/2020/08/15/torchanimd.html"
      ],
      "metadata": {
        "id": "KZy15wfOoPoY"
      }
    },
    {
      "cell_type": "code",
      "execution_count": 1,
      "metadata": {
        "colab": {
          "base_uri": "https://localhost:8080/"
        },
        "id": "dBgp_e8-oFgk",
        "outputId": "f51bf2f7-918c-4d83-f48b-f2487ae5a876"
      },
      "outputs": [
        {
          "output_type": "stream",
          "name": "stdout",
          "text": [
            "\u001b[2K     \u001b[90m━━━━━━━━━━━━━━━━━━━━━━━━━━━━━━━━━━━━━━━━\u001b[0m \u001b[32m2.2/2.2 MB\u001b[0m \u001b[31m20.8 MB/s\u001b[0m eta \u001b[36m0:00:00\u001b[0m\n",
            "\u001b[2K     \u001b[90m━━━━━━━━━━━━━━━━━━━━━━━━━━━━━━━━━━━━━━━━\u001b[0m \u001b[32m10.9/10.9 MB\u001b[0m \u001b[31m20.0 MB/s\u001b[0m eta \u001b[36m0:00:00\u001b[0m\n",
            "\u001b[2K     \u001b[90m━━━━━━━━━━━━━━━━━━━━━━━━━━━━━━━━━━━━━━━━\u001b[0m \u001b[32m103.5/103.5 kB\u001b[0m \u001b[31m8.3 MB/s\u001b[0m eta \u001b[36m0:00:00\u001b[0m\n",
            "\u001b[?25h"
          ]
        }
      ],
      "source": [
        "!pip -q install ase\n",
        "!pip -q install torchani"
      ]
    },
    {
      "cell_type": "markdown",
      "source": [
        "### Torch interface"
      ],
      "metadata": {
        "id": "NfHkyalA8MtH"
      }
    },
    {
      "cell_type": "code",
      "source": [
        "import torchani\n",
        "import torch\n",
        "\n",
        "elements = torch.tensor([[6, 6]])\n",
        "positions = torch.tensor([[[3.0, 3.0, 3.0],\n",
        "                           [3.5, 3.5, 3.5]]], requires_grad=True)\n",
        "\n",
        "model = torchani.models.ANI2x(periodic_table_index=True)\n",
        "\n",
        "energy = model((elements, positions)).energies\n",
        "\n",
        "forces = -1.0 * torch.autograd.grad(energy.sum(), positions)[0]\n"
      ],
      "metadata": {
        "colab": {
          "base_uri": "https://localhost:8080/"
        },
        "id": "790SVKPmoQHj",
        "outputId": "305435d0-f066-4378-863b-59bec6482e72"
      },
      "execution_count": 2,
      "outputs": [
        {
          "output_type": "stream",
          "name": "stderr",
          "text": [
            "/usr/local/lib/python3.10/dist-packages/torchani/aev.py:16: UserWarning: cuaev not installed\n",
            "  warnings.warn(\"cuaev not installed\")\n"
          ]
        },
        {
          "output_type": "stream",
          "name": "stdout",
          "text": [
            "/usr/local/lib/python3.10/dist-packages/torchani/resources/\n",
            "Downloading ANI model parameters ...\n"
          ]
        }
      ]
    },
    {
      "cell_type": "code",
      "source": [
        "energy"
      ],
      "metadata": {
        "colab": {
          "base_uri": "https://localhost:8080/"
        },
        "id": "Y6C29qe-p_WR",
        "outputId": "d64ed680-3ff7-4dc9-c095-eba3dceb8f0c"
      },
      "execution_count": 3,
      "outputs": [
        {
          "output_type": "execute_result",
          "data": {
            "text/plain": [
              "tensor([-75.7952], dtype=torch.float64, grad_fn=<AddBackward0>)"
            ]
          },
          "metadata": {},
          "execution_count": 3
        }
      ]
    },
    {
      "cell_type": "code",
      "source": [
        "forces\n"
      ],
      "metadata": {
        "colab": {
          "base_uri": "https://localhost:8080/"
        },
        "id": "cN94sQNRqTN3",
        "outputId": "36f22ec1-c8c3-4e9b-9b06-176a875ad71e"
      },
      "execution_count": 4,
      "outputs": [
        {
          "output_type": "execute_result",
          "data": {
            "text/plain": [
              "tensor([[[-0.4016, -0.4016, -0.4016],\n",
              "         [ 0.4016,  0.4016,  0.4016]]])"
            ]
          },
          "metadata": {},
          "execution_count": 4
        }
      ]
    },
    {
      "cell_type": "markdown",
      "source": [
        "### Ase interface"
      ],
      "metadata": {
        "id": "VUUIMO0X8KZK"
      }
    },
    {
      "cell_type": "code",
      "source": [
        "from ase.optimize import BFGS\n",
        "import torchani\n",
        "from io import StringIO\n",
        "import ase\n",
        "from ase import Atoms\n",
        "from ase.io import read\n",
        "\n",
        "aspirin = \"\"\"21\n",
        "\n",
        "C          2.45639       -0.16543        0.39727\n",
        "C          0.78890        2.02854       -0.64816\n",
        "C          2.74071        1.02327        0.12533\n",
        "C          2.05734        2.11782       -0.40016\n",
        "C         -3.59396        1.03209        0.04589\n",
        "C          0.67738       -0.27507        0.15097\n",
        "C          0.00274        0.84234       -0.35887\n",
        "O          0.63293       -2.54526        0.93360\n",
        "O         -1.76452        1.43252        1.56571\n",
        "O         -1.24894       -1.68411        0.12975\n",
        "C          0.05278       -1.58881        0.44958\n",
        "C         -2.15199        1.12841        0.44513\n",
        "O         -1.36167        0.82832       -0.65825\n",
        "H         -1.47652       -2.60111        0.39232\n",
        "H          2.60948       -1.11173        0.80284\n",
        "H          0.15708        2.88266       -1.05823\n",
        "H          3.80777        1.09126        0.32364\n",
        "H          2.59044        3.04081       -0.61405\n",
        "H         -3.81640        0.02049       -0.30287\n",
        "H         -4.22480        1.24591        0.91440\n",
        "H         -3.81296        1.76576       -0.73332\"\"\"\n",
        "\n",
        "aspirin_mol:ase.Atoms = read(StringIO(aspirin), format=\"xyz\")\n",
        "\n",
        "#aspirin_mol.calc = torchani.models.ANI1ccx().ase() # CCSD(T)*/CBS (CCSD(T) using the DPLNO-CCSD(T) | HCNO\n",
        "#aspirin_mol.calc = torchani.models.ANI2x().ase() # wB97X/6-31G(d) | HCNOFSCl\n",
        "aspirin_mol.calc = torchani.models.ANI1x().ase() # wB97X/6-31G(d) | HCNO\n",
        "\n",
        "print(f\"\\nopt : {aspirin_mol.get_potential_energy()} eV\\n\")\n",
        "\n",
        "optimizer = BFGS(aspirin_mol)\n",
        "\n",
        "optimizer.run()\n",
        "\n",
        "print(f\"\\nopt : {aspirin_mol.get_potential_energy()} eV\")"
      ],
      "metadata": {
        "colab": {
          "base_uri": "https://localhost:8080/"
        },
        "id": "jUa6mSpN6YX1",
        "outputId": "7dc0f873-ce28-4cae-9c25-5f076ec32827"
      },
      "execution_count": 15,
      "outputs": [
        {
          "output_type": "stream",
          "name": "stdout",
          "text": [
            "/usr/local/lib/python3.10/dist-packages/torchani/resources/\n",
            "\n",
            "opt : -17644.212666776286 eV\n",
            "\n",
            "      Step     Time          Energy         fmax\n",
            "BFGS:    0 11:33:19   -17644.212667       12.3431\n",
            "BFGS:    1 11:33:20   -17646.442957        6.8522\n",
            "BFGS:    2 11:33:20   -17646.801903        7.6119\n",
            "BFGS:    3 11:33:20   -17647.328574        2.5514\n",
            "BFGS:    4 11:33:20   -17647.425312        1.2044\n",
            "BFGS:    5 11:33:20   -17647.486695        0.8276\n",
            "BFGS:    6 11:33:20   -17647.505709        0.5203\n",
            "BFGS:    7 11:33:20   -17647.517426        0.3511\n",
            "BFGS:    8 11:33:20   -17647.522832        0.3578\n",
            "BFGS:    9 11:33:20   -17647.528492        0.1880\n",
            "BFGS:   10 11:33:20   -17647.533049        0.1799\n",
            "BFGS:   11 11:33:20   -17647.535120        0.1860\n",
            "BFGS:   12 11:33:20   -17647.538837        0.1967\n",
            "BFGS:   13 11:33:20   -17647.541755        0.1266\n",
            "BFGS:   14 11:33:20   -17647.543872        0.0972\n",
            "BFGS:   15 11:33:20   -17647.545208        0.1073\n",
            "BFGS:   16 11:33:20   -17647.546584        0.0785\n",
            "BFGS:   17 11:33:20   -17647.547841        0.1037\n",
            "BFGS:   18 11:33:20   -17647.548900        0.0837\n",
            "BFGS:   19 11:33:20   -17647.549633        0.0565\n",
            "BFGS:   20 11:33:20   -17647.550070        0.0404\n",
            "\n",
            "opt : -17647.55007021678 eV\n"
          ]
        }
      ]
    }
  ]
}