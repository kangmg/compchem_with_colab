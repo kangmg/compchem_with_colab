{
  "cells": [
    {
      "cell_type": "markdown",
      "metadata": {
        "id": "view-in-github",
        "colab_type": "text"
      },
      "source": [
        "<a href=\"https://colab.research.google.com/github/kangmg/compchem_with_colab/blob/main/autodock_minor_fix.ipynb\" target=\"_parent\"><img src=\"https://colab.research.google.com/assets/colab-badge.svg\" alt=\"Open In Colab\"/></a>"
      ]
    },
    {
      "cell_type": "code",
      "source": [
        "# dataset // 훈련 데이터셋\n",
        "!wget \"https://drive.usercontent.google.com/download?id=1d_UxhRHJWjpxIkWa4kKNjMrdRx4_nh_1&export=download&authuser=1&confirm=t\" -O data.tar.gz -q\n",
        "!tar -xzf data.tar.gz\n",
        "!mv data/* ./\n",
        "!rm -rf data.tar.gz data"
      ],
      "metadata": {
        "id": "cUkXu4KdG4mA"
      },
      "id": "cUkXu4KdG4mA",
      "execution_count": null,
      "outputs": []
    },
    {
      "cell_type": "code",
      "execution_count": null,
      "metadata": {
        "cellView": "form",
        "id": "kLjAyOLewwIv"
      },
      "outputs": [],
      "source": [
        "#@title install `openbable`\n",
        "#@markdown runtime ~ `3 min`\n",
        "install_openbable = True # @param [\"True\",\"False\"] {\"type\":\"raw\",\"allow-input\":true}\n",
        "if install_openbable:\n",
        "    # 의존성 프로그램 설치\n",
        "    !apt install swig > /dev/null 2>&1 # version : 4.0.2\n",
        "\n",
        "    # openbabel 소스코드 설치\n",
        "    !wget -q https://github.com/openbabel/openbabel/archive/refs/tags/openbabel-3-1-1.tar.gz -O openbable.tar.gz\n",
        "    !tar xzf ./openbable.tar.gz\n",
        "    !rm ./openbable.tar.gz\n",
        "\n",
        "    # 소스코드 빌드 & 파이썬 바인딩\n",
        "    !mkdir -p ./build\n",
        "    !cmake -B ./build ./openbabel-openbabel-3-1-1 -DPYTHON_BINDINGS=ON -DRUN_SWIG=ON > /dev/null 2>&1\n",
        "    !make -C ./build -j2 > /dev/null 2>&1\n",
        "    !make -C ./build install > /dev/null 2>&1"
      ],
      "id": "kLjAyOLewwIv"
    },
    {
      "cell_type": "code",
      "source": [
        "# `uv pip` is more faster than `pip`\n",
        "!uv pip install rdkit\n",
        "!uv pip install vina"
      ],
      "metadata": {
        "id": "_stCVJMQGYm1",
        "outputId": "18c36b84-4c70-4d51-9f9e-3103b1712d66",
        "colab": {
          "base_uri": "https://localhost:8080/"
        }
      },
      "id": "_stCVJMQGYm1",
      "execution_count": null,
      "outputs": [
        {
          "output_type": "stream",
          "name": "stdout",
          "text": [
            "\u001b[2mUsing Python 3.11.13 environment at: /usr\u001b[0m\n",
            "\u001b[2mAudited \u001b[1m1 package\u001b[0m \u001b[2min 99ms\u001b[0m\u001b[0m\n",
            "\u001b[2mUsing Python 3.11.13 environment at: /usr\u001b[0m\n",
            "\u001b[2mAudited \u001b[1m1 package\u001b[0m \u001b[2min 107ms\u001b[0m\u001b[0m\n"
          ]
        }
      ]
    },
    {
      "metadata": {
        "id": "9d18a880beef98be"
      },
      "cell_type": "markdown",
      "source": [
        "# smiles to pdbqt"
      ],
      "id": "9d18a880beef98be"
    },
    {
      "metadata": {
        "ExecuteTime": {
          "end_time": "2025-07-09T08:08:09.338520Z",
          "start_time": "2025-07-09T08:08:09.090349Z"
        },
        "colab": {
          "base_uri": "https://localhost:8080/"
        },
        "id": "df154768b2990a9a",
        "outputId": "b48d90d8-6091-4504-de49-c9599940fc60"
      },
      "cell_type": "code",
      "source": [
        "import pandas as pd\n",
        "from rdkit import Chem\n",
        "from rdkit.Chem import AllChem\n",
        "from rdkit.Chem import MolToPDBBlock\n",
        "import os\n",
        "import traceback\n",
        "from tqdm import tqdm\n",
        "\n",
        "csv_path = \"/content/train.csv\"\n",
        "output_folder = \"/content/output_folder\"\n",
        "\n",
        "df = pd.read_csv(csv_path)\n",
        "\n",
        "os.makedirs(output_folder, exist_ok=True)\n",
        "\n",
        "log_file = os.path.join(output_folder, \"error_log.txt\")\n",
        "\n",
        "success_df = pd.DataFrame(columns=df.columns)\n",
        "\n",
        "with open(log_file, \"w\") as log:\n",
        "    for index, row in tqdm(df.iterrows(), total=df.shape[0]):\n",
        "        smiles = row[\"Canonical_Smiles\"]\n",
        "        compound_name = row[\"ID\"]\n",
        "\n",
        "        try:\n",
        "            if pd.isna(smiles) or not Chem.MolFromSmiles(smiles):\n",
        "                raise ValueError(f\"Invalid SMILES in row {index + 2}\")\n",
        "\n",
        "            mol = Chem.MolFromSmiles(smiles)\n",
        "            mol = Chem.AddHs(mol)\n",
        "            AllChem.EmbedMolecule(mol)\n",
        "\n",
        "            pdbqt_filename = os.path.join(output_folder, f\"{compound_name}.pdbqt\")\n",
        "            with open(pdbqt_filename, \"w\") as pdbqt_file:\n",
        "                pdbqt_file.write(MolToPDBBlock(mol))\n",
        "\n",
        "\n",
        "            success_df = success_df.append(row, ignore_index=True)\n",
        "\n",
        "        except Exception as e:\n",
        "            log.write(f\"Error processing row {index + 2}: {str(e)}\\n\")\n",
        "            traceback.print_exc(file=log)\n",
        "\n",
        "\n",
        "success_df.to_csv(csv_path, index=False)\n",
        "\n",
        "print(\"Conversion complete. Check the error log for details.\")\n"
      ],
      "id": "df154768b2990a9a",
      "outputs": [
        {
          "output_type": "stream",
          "name": "stderr",
          "text": [
            "100%|██████████| 1681/1681 [01:32<00:00, 18.08it/s]"
          ]
        },
        {
          "output_type": "stream",
          "name": "stdout",
          "text": [
            "Conversion complete. Check the error log for details.\n"
          ]
        },
        {
          "output_type": "stream",
          "name": "stderr",
          "text": [
            "\n"
          ]
        }
      ],
      "execution_count": null
    },
    {
      "cell_type": "code",
      "metadata": {
        "colab": {
          "base_uri": "https://localhost:8080/"
        },
        "id": "b5ad723f",
        "outputId": "e275679e-9a90-4e74-8a88-a37d3d3a6574"
      },
      "source": [
        "# !pip install scripts.prepare_receptor"
      ],
      "id": "b5ad723f",
      "execution_count": null,
      "outputs": [
        {
          "output_type": "stream",
          "name": "stdout",
          "text": [
            "\u001b[31mERROR: Could not find a version that satisfies the requirement scripts.prepare_receptor (from versions: none)\u001b[0m\u001b[31m\n",
            "\u001b[0m\u001b[31mERROR: No matching distribution found for scripts.prepare_receptor\u001b[0m\u001b[31m\n",
            "\u001b[0m"
          ]
        }
      ]
    },
    {
      "cell_type": "code",
      "source": [
        "from vina import Vina\n",
        "\n",
        "def run_vina(receptor, ligand_path, out_pdbqt, log_file, center_x, center_y, center_z, size_x, size_y, size_z, exhaustiveness):\n",
        "    # Vina 객체 생성\n",
        "    v = Vina(sf_name='vina')\n",
        "\n",
        "    # 수용체(receptor) 설정\n",
        "    v.set_receptor(receptor)\n",
        "\n",
        "    # 리간드(ligand) 설정\n",
        "    v.set_ligand_from_file(ligand_path)\n",
        "\n",
        "    # 도킹 박스 설정 (중심과 크기)\n",
        "    v.compute_vina_maps(center=[center_x, center_y, center_z], box_size=[size_x, size_y, size_z])\n",
        "\n",
        "    # 도킹 실행\n",
        "    v.dock(exhaustiveness=exhaustiveness)\n",
        "\n",
        "    # 결과 저장\n",
        "    v.write_pdbqt(out_pdbqt, n_poses=10)  # n_poses는 생성할 포즈 수, 필요에 따라 조정\n",
        "    v.write_log(log_file)\n",
        "\n",
        "    print(f\"Vina 도킹 완료! 출력: {out_pdbqt}, 로그: {log_file}\")"
      ],
      "metadata": {
        "id": "qm0Y9ZpjJzF4"
      },
      "id": "qm0Y9ZpjJzF4",
      "execution_count": null,
      "outputs": []
    },
    {
      "cell_type": "markdown",
      "source": [
        "# autodock vina"
      ],
      "metadata": {
        "id": "aF-no1r6VwcY"
      },
      "id": "aF-no1r6VwcY"
    },
    {
      "cell_type": "code",
      "source": [
        "import os, glob, subprocess\n",
        "import pandas as pd\n",
        "from tqdm import tqdm\n",
        "\n",
        "# --- 설정 ---\n",
        "receptor     = \"/content/receptor.pdbqt\"\n",
        "ligand_dir   = \"/content/output_folder\"\n",
        "output_dir   = \"/content/out_path\"\n",
        "os.makedirs(output_dir, exist_ok=True)\n",
        "\n",
        "# Grid box 설정 (예시값)\n",
        "center_x, center_y, center_z = 22.57, 22.77, 11.81\n",
        "size_x,   size_y,   size_z   = 5.58,  13.38,  10.50\n",
        "exhaustiveness = 8\n",
        "\n",
        "# --- 도킹 반복 실행 ---\n",
        "results = []\n",
        "for ligand_path in tqdm(glob.glob(os.path.join(ligand_dir, \"*.pdbqt\"))):\n",
        "    ligand_name = os.path.basename(ligand_path)\n",
        "    out_pdbqt   = os.path.join(output_dir, ligand_name.replace(\".pdbqt\", \"_out.pdbqt\"))\n",
        "    log_file    = os.path.join(output_dir, ligand_name.replace(\".pdbqt\", \".log\"))\n",
        "\n",
        "    run_vina(\n",
        "        receptor=receptor,\n",
        "        ligand_path=ligand_path,\n",
        "        out_pdbqt=out_pdbqt,\n",
        "        log_file=log_file,\n",
        "        center_x=center_x,\n",
        "        center_y=center_y,\n",
        "        center_z=center_z,\n",
        "        size_x=size_x,\n",
        "        size_y=size_y,\n",
        "        size_z=size_z,\n",
        "        exhaustiveness=exhaustiveness\n",
        "        )\n",
        "\n",
        "    # 첫 번째 포즈(라인 시작이 \"1\")에서 affinity 추출\n",
        "    affinity = None\n",
        "    with open(log_file) as f:\n",
        "        for line in f:\n",
        "            if line.strip().startswith(\"1\"):\n",
        "                affinity = float(line.split()[1])\n",
        "                break\n",
        "\n",
        "    results.append({\"ligand\": ligand_name, \"affinity_kcal_per_mol\": affinity})\n",
        "\n",
        "# --- 결과 CSV로 저장 ---\n",
        "df = pd.DataFrame(results)\n",
        "csv_path = os.path.join(output_dir, \"docking_results.csv\")\n",
        "df.to_csv(csv_path, index=False)\n",
        "\n",
        "print(\"✅ 도킹 완료! 결과는\", csv_path, \"에 저장되었습니다.\")"
      ],
      "metadata": {
        "id": "is8jExqJeAP5",
        "outputId": "ea69ec0a-8e8c-428c-a36f-aeb6ac5f40ff",
        "colab": {
          "base_uri": "https://localhost:8080/",
          "height": 391
        }
      },
      "id": "is8jExqJeAP5",
      "execution_count": null,
      "outputs": [
        {
          "output_type": "stream",
          "name": "stderr",
          "text": [
            "  0%|          | 0/1681 [00:00<?, ?it/s]\n"
          ]
        },
        {
          "output_type": "error",
          "ename": "RuntimeError",
          "evalue": "Error: file /content/receptor.pdbqt does not exist.",
          "traceback": [
            "\u001b[0;31m---------------------------------------------------------------------------\u001b[0m",
            "\u001b[0;31mRuntimeError\u001b[0m                              Traceback (most recent call last)",
            "\u001b[0;32m/tmp/ipython-input-22-3027322706.py\u001b[0m in \u001b[0;36m<cell line: 0>\u001b[0;34m()\u001b[0m\n\u001b[1;32m     21\u001b[0m     \u001b[0mlog_file\u001b[0m    \u001b[0;34m=\u001b[0m \u001b[0mos\u001b[0m\u001b[0;34m.\u001b[0m\u001b[0mpath\u001b[0m\u001b[0;34m.\u001b[0m\u001b[0mjoin\u001b[0m\u001b[0;34m(\u001b[0m\u001b[0moutput_dir\u001b[0m\u001b[0;34m,\u001b[0m \u001b[0mligand_name\u001b[0m\u001b[0;34m.\u001b[0m\u001b[0mreplace\u001b[0m\u001b[0;34m(\u001b[0m\u001b[0;34m\".pdbqt\"\u001b[0m\u001b[0;34m,\u001b[0m \u001b[0;34m\".log\"\u001b[0m\u001b[0;34m)\u001b[0m\u001b[0;34m)\u001b[0m\u001b[0;34m\u001b[0m\u001b[0;34m\u001b[0m\u001b[0m\n\u001b[1;32m     22\u001b[0m \u001b[0;34m\u001b[0m\u001b[0m\n\u001b[0;32m---> 23\u001b[0;31m     run_vina(\n\u001b[0m\u001b[1;32m     24\u001b[0m         \u001b[0mreceptor\u001b[0m\u001b[0;34m=\u001b[0m\u001b[0mreceptor\u001b[0m\u001b[0;34m,\u001b[0m\u001b[0;34m\u001b[0m\u001b[0;34m\u001b[0m\u001b[0m\n\u001b[1;32m     25\u001b[0m         \u001b[0mligand_path\u001b[0m\u001b[0;34m=\u001b[0m\u001b[0mligand_path\u001b[0m\u001b[0;34m,\u001b[0m\u001b[0;34m\u001b[0m\u001b[0;34m\u001b[0m\u001b[0m\n",
            "\u001b[0;32m/tmp/ipython-input-20-3890960835.py\u001b[0m in \u001b[0;36mrun_vina\u001b[0;34m(receptor, ligand_path, out_pdbqt, log_file, center_x, center_y, center_z, size_x, size_y, size_z, exhaustiveness)\u001b[0m\n\u001b[1;32m      6\u001b[0m \u001b[0;34m\u001b[0m\u001b[0m\n\u001b[1;32m      7\u001b[0m     \u001b[0;31m# 수용체(receptor) 설정\u001b[0m\u001b[0;34m\u001b[0m\u001b[0;34m\u001b[0m\u001b[0m\n\u001b[0;32m----> 8\u001b[0;31m     \u001b[0mv\u001b[0m\u001b[0;34m.\u001b[0m\u001b[0mset_receptor\u001b[0m\u001b[0;34m(\u001b[0m\u001b[0mreceptor\u001b[0m\u001b[0;34m)\u001b[0m\u001b[0;34m\u001b[0m\u001b[0;34m\u001b[0m\u001b[0m\n\u001b[0m\u001b[1;32m      9\u001b[0m \u001b[0;34m\u001b[0m\u001b[0m\n\u001b[1;32m     10\u001b[0m     \u001b[0;31m# 리간드(ligand) 설정\u001b[0m\u001b[0;34m\u001b[0m\u001b[0;34m\u001b[0m\u001b[0m\n",
            "\u001b[0;32m/usr/local/lib/python3.11/dist-packages/vina/vina.py\u001b[0m in \u001b[0;36mset_receptor\u001b[0;34m(self, rigid_pdbqt_filename, flex_pdbqt_filename)\u001b[0m\n\u001b[1;32m    138\u001b[0m         \u001b[0;32mif\u001b[0m \u001b[0mrigid_pdbqt_filename\u001b[0m \u001b[0;32mis\u001b[0m \u001b[0;32mnot\u001b[0m \u001b[0;32mNone\u001b[0m\u001b[0;34m:\u001b[0m\u001b[0;34m\u001b[0m\u001b[0;34m\u001b[0m\u001b[0m\n\u001b[1;32m    139\u001b[0m             \u001b[0;32mif\u001b[0m \u001b[0;32mnot\u001b[0m \u001b[0mos\u001b[0m\u001b[0;34m.\u001b[0m\u001b[0mpath\u001b[0m\u001b[0;34m.\u001b[0m\u001b[0mexists\u001b[0m\u001b[0;34m(\u001b[0m\u001b[0mrigid_pdbqt_filename\u001b[0m\u001b[0;34m)\u001b[0m\u001b[0;34m:\u001b[0m\u001b[0;34m\u001b[0m\u001b[0;34m\u001b[0m\u001b[0m\n\u001b[0;32m--> 140\u001b[0;31m                 \u001b[0;32mraise\u001b[0m \u001b[0mRuntimeError\u001b[0m\u001b[0;34m(\u001b[0m\u001b[0;34m'Error: file %s does not exist.'\u001b[0m \u001b[0;34m%\u001b[0m \u001b[0mrigid_pdbqt_filename\u001b[0m\u001b[0;34m)\u001b[0m\u001b[0;34m\u001b[0m\u001b[0;34m\u001b[0m\u001b[0m\n\u001b[0m\u001b[1;32m    141\u001b[0m             \u001b[0m_\u001b[0m\u001b[0;34m,\u001b[0m \u001b[0mextension\u001b[0m \u001b[0;34m=\u001b[0m \u001b[0mos\u001b[0m\u001b[0;34m.\u001b[0m\u001b[0mpath\u001b[0m\u001b[0;34m.\u001b[0m\u001b[0msplitext\u001b[0m\u001b[0;34m(\u001b[0m\u001b[0mrigid_pdbqt_filename\u001b[0m\u001b[0;34m)\u001b[0m\u001b[0;34m\u001b[0m\u001b[0;34m\u001b[0m\u001b[0m\n\u001b[1;32m    142\u001b[0m             \u001b[0;32mif\u001b[0m \u001b[0;32mnot\u001b[0m \u001b[0mextension\u001b[0m \u001b[0;34m==\u001b[0m \u001b[0;34m'.pdbqt'\u001b[0m\u001b[0;34m:\u001b[0m\u001b[0;34m\u001b[0m\u001b[0;34m\u001b[0m\u001b[0m\n",
            "\u001b[0;31mRuntimeError\u001b[0m: Error: file /content/receptor.pdbqt does not exist."
          ]
        }
      ]
    }
  ],
  "metadata": {
    "kernelspec": {
      "display_name": "Python 3",
      "language": "python",
      "name": "python3"
    },
    "language_info": {
      "codemirror_mode": {
        "name": "ipython",
        "version": 2
      },
      "file_extension": ".py",
      "mimetype": "text/x-python",
      "name": "python",
      "nbconvert_exporter": "python",
      "pygments_lexer": "ipython2",
      "version": "2.7.6"
    },
    "colab": {
      "provenance": [],
      "include_colab_link": true
    }
  },
  "nbformat": 4,
  "nbformat_minor": 5
}