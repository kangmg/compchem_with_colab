{
  "nbformat": 4,
  "nbformat_minor": 0,
  "metadata": {
    "colab": {
      "provenance": []
    },
    "kernelspec": {
      "name": "python3",
      "display_name": "Python 3"
    },
    "language_info": {
      "name": "python"
    }
  },
  "cells": [
    {
      "cell_type": "markdown",
      "source": [
        "## Prerequisites\n",
        "본인의 구글 드라이브에 `/Mydrive/orca/orca.tar.xz`파일이 설치되어있어야 합니다.\n",
        "\n",
        "`orca.tar.xz`\n",
        "\n",
        "/Mydrive/orca/orca_5_0_4_linux_x86-64_openmpi411_part1.tar.xz\n",
        "\n",
        "/Mydrive/orca/orca_5_0_4_linux_x86-64_openmpi411_part2.tar.xz\n",
        "\n",
        "/Mydrive/orca/orca_5_0_4_linux_x86-64_openmpi411_part3.tar.xz"
      ],
      "metadata": {
        "id": "TTWeHP_riNdG"
      }
    },
    {
      "cell_type": "code",
      "execution_count": null,
      "metadata": {
        "id": "_8EceGgmiGXp"
      },
      "outputs": [],
      "source": [
        "# 오르카 설치\n",
        "!mkdir /home/orca\n",
        "!mkdir /home/orca/orca_run\n",
        "!mkdir /home/orca/orca_file\n",
        "!find /content/drive/MyDrive/orca -name \"*.tar.xz\" -exec tar -xJvf {} -C /home/orca/orca_file \\;\n",
        "!mv /home/orca/orca_file/orca_5_0_4_linux_x86-64_openmpi411_part*/* /home/orca/orca_file/\n",
        "!chmod -R 777 /home/\n",
        "!export OMPI_ALLOW_RUN_AS_ROOT=1\n",
        "!export OMPI_ALLOW_RUN_AS_ROOT_CONFIRM=1\n",
        "!export PATH=/home/orca/orca_file:$PATH\n",
        "!export LD_LIBRARY_PATH=/home/orca/orca_file:$LD_LIBRARY_PATH"
      ]
    },
    {
      "cell_type": "code",
      "source": [
        "# colab-shell 설치\n",
        "pip install google-colab-shell\n",
        "from google_colab_shell import getshell"
      ],
      "metadata": {
        "id": "aY3pY6mUiZF0"
      },
      "execution_count": null,
      "outputs": []
    },
    {
      "cell_type": "markdown",
      "source": [
        "## colab-shell"
      ],
      "metadata": {
        "id": "2z2oP4HCidrE"
      }
    },
    {
      "cell_type": "code",
      "source": [
        "getshell(height=400)"
      ],
      "metadata": {
        "id": "9LoiDq9licw7"
      },
      "execution_count": null,
      "outputs": []
    },
    {
      "cell_type": "markdown",
      "source": [
        "## ORCA 실행\n",
        "```\n",
        "# colab-shell에서 실행\n",
        "\n",
        "cd /home/orca/orca_run   # input 파일 존재 디렉토리\n",
        "\n",
        "/home/orca/orca_file/orca input.inp > output.out\n",
        "\n",
        "zip -r /home/orca/result.zip /home/orca/orca_run # 결과파일 압축 후 저장\n",
        "```"
      ],
      "metadata": {
        "id": "uvUFlt8TikR8"
      }
    },
    {
      "cell_type": "markdown",
      "source": [
        "# 예시 인풋파일\n",
        "- $SN_2$의 NEB calculation\n",
        " * input : /home/orca/orca_run/input.inp\n",
        " * 반응물 좌표 : /home/orca/orca_run/react.xyz\n",
        " * 생성물 좌표 : end.xyz"
      ],
      "metadata": {
        "id": "XLWt8y-TjVz3"
      }
    },
    {
      "cell_type": "markdown",
      "source": [
        "## input 생성"
      ],
      "metadata": {
        "id": "D4HWHfeniibf"
      }
    },
    {
      "cell_type": "code",
      "source": [
        "input = \"\"\"\n",
        "!B3LYP DEF2-SVP D4 NEB-TS FREQ\n",
        "%neb\n",
        "NEB_End_XYZFile \"prod.xyz\"\n",
        "Nimages 17\n",
        "end\n",
        "*xyzfile -1 1 react.xyz\n",
        "\"\"\""
      ],
      "metadata": {
        "id": "Sd76Appciirb"
      },
      "execution_count": null,
      "outputs": []
    },
    {
      "cell_type": "code",
      "source": [
        "with open('/home/orca/orca_run/input.inp', 'w') as file:\n",
        "  file.write(input)"
      ],
      "metadata": {
        "id": "SF0EmEEhiixI"
      },
      "execution_count": null,
      "outputs": []
    },
    {
      "cell_type": "markdown",
      "source": [
        "## react.xyz 생성"
      ],
      "metadata": {
        "id": "6P_JcWdXijvG"
      }
    },
    {
      "cell_type": "code",
      "source": [
        "react = \"\"\"\n",
        "6\n",
        "-1 1\n",
        "C -1.277168 0.545365 -0.000063\n",
        "H -1.652166 0.593222 1.017641\n",
        "H -1.652215 -0.359651 -0.467952\n",
        "H -1.651698 1.403205 -0.550042\n",
        "Br 0.648058 0.543727 0.000199\n",
        "Cl -4.402752 0.572053 0.000227\n",
        "\"\"\""
      ],
      "metadata": {
        "id": "QLux8MwnijXx"
      },
      "execution_count": null,
      "outputs": []
    },
    {
      "cell_type": "code",
      "source": [
        "with open('/home/orca/orca_run/react.xyz', 'w') as file:\n",
        "  file.write(react)"
      ],
      "metadata": {
        "id": "JAvpCYbiijhH"
      },
      "execution_count": null,
      "outputs": []
    },
    {
      "cell_type": "markdown",
      "source": [
        "## prod.xyz 생성"
      ],
      "metadata": {
        "id": "7TBHl9t8ijH2"
      }
    },
    {
      "cell_type": "code",
      "source": [
        "prod = \"\"\"\n",
        "6\n",
        "-1 1\n",
        "C -2.079726 0.551724 0.000181\n",
        "H -1.716302 0.597582 1.023606\n",
        "H -1.721086 -0.360355 -0.470061\n",
        "H -1.711738 1.412215 -0.552817\n",
        "Br 1.128916 0.535431 -0.000439\n",
        "Cl -3.888003 0.561313 -0.000459\n",
        "\"\"\""
      ],
      "metadata": {
        "id": "uRC2MY-vikEy"
      },
      "execution_count": null,
      "outputs": []
    },
    {
      "cell_type": "code",
      "source": [
        "with open('/home/orca/orca_run/prod.xyz', 'w') as file:\n",
        "  file.write(prod)"
      ],
      "metadata": {
        "id": "Wo1tTFocjFvn"
      },
      "execution_count": null,
      "outputs": []
    }
  ]
}