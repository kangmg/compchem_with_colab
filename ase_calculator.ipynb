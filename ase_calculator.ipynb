{
  "nbformat": 4,
  "nbformat_minor": 0,
  "metadata": {
    "colab": {
      "provenance": [],
      "collapsed_sections": [
        "S0wLJ1x5qlCA",
        "N2vtbZgkSxB9",
        "S4zgr8lotd_C",
        "lIe1Fph0Z5_s",
        "-qK67Un0Sy-8",
        "GIXIWlIcWUHp",
        "sPYE6JRAX3XK",
        "in_oDNHTYBDV"
      ],
      "authorship_tag": "ABX9TyMc/hB1FWwtM5D85imgDjrs",
      "include_colab_link": true
    },
    "kernelspec": {
      "name": "python3",
      "display_name": "Python 3"
    },
    "language_info": {
      "name": "python"
    }
  },
  "cells": [
    {
      "cell_type": "markdown",
      "metadata": {
        "id": "view-in-github",
        "colab_type": "text"
      },
      "source": [
        "<a href=\"https://colab.research.google.com/github/kangmg/compchem_with_colab/blob/main/ase_calculator.ipynb\" target=\"_parent\"><img src=\"https://colab.research.google.com/assets/colab-badge.svg\" alt=\"Open In Colab\"/></a>"
      ]
    },
    {
      "cell_type": "markdown",
      "source": [
        "## install programs"
      ],
      "metadata": {
        "id": "S0wLJ1x5qlCA"
      }
    },
    {
      "cell_type": "code",
      "source": [
        "# clear cell output\n",
        "from IPython.display import clear_output\n",
        "\n",
        "# 의존성 프로그램 설치\n",
        "!apt install swig # version : 4.0.2\n",
        "\n",
        "# openbabel 소스코드 설치\n",
        "!wget -q https://github.com/openbabel/openbabel/archive/refs/tags/openbabel-3-1-1.tar.gz -O openbable.tar.gz\n",
        "!tar vxf ./openbable.tar.gz\n",
        "!rm ./openbable.tar.gz\n",
        "\n",
        "# 소스코드 빌드 & 파이썬 바인딩\n",
        "!mkdir ./build\n",
        "%cd build\n",
        "!cmake ../openbabel-openbabel-3-1-1 -DPYTHON_BINDINGS=ON -DRUN_SWIG=ON\n",
        "clear_output()\n",
        "!echo \"%%%%%%%%     Compiling . . .  %%%%%%%%\"\n",
        "!make -j2\n",
        "clear_output()\n",
        "!echo \"%%%%%%%%     Building . . .  %%%%%%%%\"\n",
        "!make install\n",
        "%cd ..\n",
        "clear_output()\n",
        "!echo \"openbabel successfully installed\""
      ],
      "metadata": {
        "colab": {
          "base_uri": "https://localhost:8080/"
        },
        "id": "MHOzePLX5qQY",
        "outputId": "0d8c4e7d-f2e1-48e8-b7bf-729df312c3d5"
      },
      "execution_count": 1,
      "outputs": [
        {
          "output_type": "stream",
          "name": "stdout",
          "text": [
            "openbabel successfully installed\n"
          ]
        }
      ]
    },
    {
      "cell_type": "code",
      "source": [
        "!pip -q install git+https://github.com/cclib/cclib.git    # compchem package\n",
        "!pip -q install git+https://gitlab.com/ase/ase.git        # ase\n",
        "!pip -q install git+https://github.com/kangmg/xtb_ase.git # ase_xtb\n",
        "\n",
        "clear_output()\n",
        "!echo \"dependent packages are successfully installed!\""
      ],
      "metadata": {
        "colab": {
          "base_uri": "https://localhost:8080/"
        },
        "id": "m-2RG075ZykQ",
        "outputId": "2f87fa5e-0542-4289-c3db-ed8f1a416cfa"
      },
      "execution_count": 2,
      "outputs": [
        {
          "output_type": "stream",
          "name": "stdout",
          "text": [
            "dependent packages are successfully installed!\n"
          ]
        }
      ]
    },
    {
      "cell_type": "code",
      "source": [
        "# xtb installation\n",
        "!wget -q https://github.com/grimme-lab/xtb/releases/download/v6.6.1/xtb-6.6.1-linux-x86_64.tar.xz -O ./xtb.tar.xz\n",
        "!tar vxf ./xtb.tar.xz\n",
        "!rm ./xtb.tar.xz\n",
        "!mkdir xtb_tmp\n",
        "clear_output()\n",
        "!echo \"xtb successfully installed!\"\n",
        "\n",
        "# xtb enviromental setting\n",
        "import os\n",
        "os.environ['PATH'] += ':/content/xtb-6.6.1/bin'"
      ],
      "metadata": {
        "colab": {
          "base_uri": "https://localhost:8080/"
        },
        "id": "TGYrKZiFaDMA",
        "outputId": "88215a9e-a646-49b1-ae68-03a86c13e2c3"
      },
      "execution_count": 3,
      "outputs": [
        {
          "output_type": "stream",
          "name": "stdout",
          "text": [
            "xtb successfully installed!\n"
          ]
        }
      ]
    },
    {
      "cell_type": "code",
      "execution_count": 4,
      "metadata": {
        "colab": {
          "base_uri": "https://localhost:8080/"
        },
        "id": "Zc4BVxqX2Vzp",
        "outputId": "4f163023-5aed-47de-c468-53a97f43a7d8"
      },
      "outputs": [
        {
          "output_type": "stream",
          "name": "stdout",
          "text": [
            "torchani successfully installed\n"
          ]
        }
      ],
      "source": [
        "# torchani 설치\n",
        "!pip -q install torchani\n",
        "clear_output()\n",
        "!echo \"torchani successfully installed\""
      ]
    },
    {
      "cell_type": "code",
      "source": [
        "# install ase\n",
        "#!pip -q install git+https://gitlab.com/ase/ase\n",
        "\n",
        "# lastest version mopac installation\n",
        "!wget -q http://openmopac.net/mopac-22.1.1-linux.tar.gz -O ./mopac.tar.gz\n",
        "!tar vxzf ./mopac.tar.gz\n",
        "!rm ./mopac.tar.gz\n",
        "clear_output()\n",
        "!echo \"mopac successfully installed\"\n",
        "\n",
        "# append mopac run file path\n",
        "import os\n",
        "os.environ['PATH'] += ':/content/mopac-22.1.1-linux/bin'"
      ],
      "metadata": {
        "colab": {
          "base_uri": "https://localhost:8080/"
        },
        "id": "NEMBaZaj6cGu",
        "outputId": "e9949dd0-4d2e-425f-92bb-a3176b0025fd"
      },
      "execution_count": 5,
      "outputs": [
        {
          "output_type": "stream",
          "name": "stdout",
          "text": [
            "mopac successfully installed\n"
          ]
        }
      ]
    },
    {
      "cell_type": "code",
      "source": [
        "# install aimnet2\n",
        "!pip install git+https://github.com/kangmg/aimnet2ase.git\n",
        "clear_output()\n",
        "!echo \"aimnet2 successfully installed\""
      ],
      "metadata": {
        "colab": {
          "base_uri": "https://localhost:8080/"
        },
        "id": "kUTX6fkeW4xB",
        "outputId": "9996867a-a95c-4922-fa21-41eb6b704047"
      },
      "execution_count": 6,
      "outputs": [
        {
          "output_type": "stream",
          "name": "stdout",
          "text": [
            "aimnet2 successfully installed\n"
          ]
        }
      ]
    },
    {
      "cell_type": "code",
      "source": [
        "# install rdkit\n",
        "!pip install rdkit\n",
        "clear_output()\n",
        "!echo \"rdkit successfully installed\""
      ],
      "metadata": {
        "colab": {
          "base_uri": "https://localhost:8080/"
        },
        "id": "F81JB220tU58",
        "outputId": "f2745ae1-4cfe-4061-977d-0d8cebe9f61c"
      },
      "execution_count": 7,
      "outputs": [
        {
          "output_type": "stream",
          "name": "stdout",
          "text": [
            "rdkit successfully installed\n"
          ]
        }
      ]
    },
    {
      "cell_type": "code",
      "source": [
        "import rdkit\n",
        "import aimnet2ase\n",
        "import torchani\n",
        "import xtb_ase\n",
        "import ase\n",
        "from openbabel import pybel\n",
        "import openbabel\n",
        "\n",
        "print(f\"\"\"\n",
        "rdkit  : {rdkit.__version__}\n",
        "aimnet2ase  : {aimnet2ase.__version__}\n",
        "torchani  : {torchani.__version__}\n",
        "xtb_ase  : {xtb_ase.__version__}\n",
        "ase  : {ase.__version__}\n",
        "openbabel  : {openbabel.__version__}\n",
        "\"\"\")"
      ],
      "metadata": {
        "colab": {
          "base_uri": "https://localhost:8080/"
        },
        "id": "wgjlzwC3UmQf",
        "outputId": "edcd36d9-eb9f-408f-9c6d-aae044e64707"
      },
      "execution_count": 8,
      "outputs": [
        {
          "output_type": "stream",
          "name": "stderr",
          "text": [
            "/usr/local/lib/python3.10/dist-packages/torchani/aev.py:16: UserWarning: cuaev not installed\n",
            "  warnings.warn(\"cuaev not installed\")\n"
          ]
        },
        {
          "output_type": "stream",
          "name": "stdout",
          "text": [
            "\n",
            "rdkit  : 2023.09.6\n",
            "aimnet2ase  : 0.0.1\n",
            "torchani  : 2.2.4\n",
            "xtb_ase  : 0.0.1\n",
            "ase  : 3.23.0b1\n",
            "openbabel  : 3.1.0\n",
            "\n"
          ]
        }
      ]
    },
    {
      "cell_type": "code",
      "source": [
        "!echo -e \"\\033[34mOpenbable version\\033[0m\"\n",
        "!obabel -V\n",
        "!echo -e \"\\n\\033[34mxTB version\\033[0m\"\n",
        "!xtb --version\n",
        "!echo -e \"\\n\\033[34mMOPAC version\\033[0m\"\n",
        "!mopac --version"
      ],
      "metadata": {
        "colab": {
          "base_uri": "https://localhost:8080/"
        },
        "id": "O79a-cXeVtEK",
        "outputId": "83199ec1-4871-4a8d-8eb9-556463d84551"
      },
      "execution_count": 9,
      "outputs": [
        {
          "output_type": "stream",
          "name": "stdout",
          "text": [
            "\u001b[34mOpenbable version\u001b[0m\n",
            "Open Babel 3.1.0 -- May 26 2024 -- 19:35:01\n",
            "\n",
            "\u001b[34mxTB version\u001b[0m\n",
            "      -----------------------------------------------------------      \n",
            "     |                   =====================                   |     \n",
            "     |                           x T B                           |     \n",
            "     |                   =====================                   |     \n",
            "     |                         S. Grimme                         |     \n",
            "     |          Mulliken Center for Theoretical Chemistry        |     \n",
            "     |                    University of Bonn                     |     \n",
            "      -----------------------------------------------------------      \n",
            "\n",
            "   * xtb version 6.6.1 (8d0f1dd) compiled by 'stahn@M-Bot' on 2023-08-01\n",
            "\n",
            "normal termination of xtb\n",
            "\n",
            "\u001b[34mMOPAC version\u001b[0m\n",
            "MOPAC version 22.1.1 commit 82a1da4b97f994dbff2423f7991c17716d3a39ea\n"
          ]
        }
      ]
    },
    {
      "cell_type": "markdown",
      "source": [
        "## openbabel ( charge setting issue ) / from xyz"
      ],
      "metadata": {
        "id": "N2vtbZgkSxB9"
      }
    },
    {
      "cell_type": "code",
      "source": [
        "from openbabel import pybel\n",
        "\n",
        "\"\"\"\n",
        "    Charge를 세팅해도 인식되지 않는 오류가 있음\n",
        "    --> 확인 필요\n",
        "\"\"\"\n",
        "\n",
        "def openbabel_optimize(xyz_string:str, charge:int, forcefield:str)->str:\n",
        "  \"\"\"\n",
        "    Parameters\n",
        "    ----------\n",
        "      - xyz_string(str) : xyz format string\n",
        "      - charge(int) : molecular total charge\n",
        "      - forcefield(str) : supported force field : ['uff', 'mmff94', 'ghemical']\n",
        "\n",
        "    Returns\n",
        "    -------\n",
        "      - optimized xyz string(str)\n",
        "  \"\"\"\n",
        "  # read xyz\n",
        "  molecule = pybel.readstring(format=\"xyz\", string=xyz_string)\n",
        "\n",
        "  # set charge\n",
        "  \"\"\"\n",
        "  To be implemented\n",
        "\n",
        "  자동 세팅이라면 charge 구한 값이랑 같은지 확인하는 절차를 넣어야 함\n",
        "  \"\"\"\n",
        "\n",
        "  # optmize using FF\n",
        "  molecule.localopt(forcefield=forcefield)\n",
        "  optimized_xyz = molecule.write(\"xyz\")\n",
        "  return optimized_xyz"
      ],
      "metadata": {
        "id": "tQAL3IL51QnT"
      },
      "execution_count": 10,
      "outputs": []
    },
    {
      "cell_type": "code",
      "source": [
        "# test\n",
        "\n",
        "xyz_input = \"\"\"4\n",
        "\n",
        "B     -0.045012    1.759938    0.842995\n",
        "H     -0.081846    1.135119    1.675327\n",
        "H     -0.095049    2.764070    1.441421\n",
        "H      0.955910    1.715485    0.238776\n",
        "\"\"\"\n",
        "print(openbabel_optimize(xyz_input, 0, \"uff\"))"
      ],
      "metadata": {
        "colab": {
          "base_uri": "https://localhost:8080/"
        },
        "id": "18BOcSz5VVOq",
        "outputId": "a212d9f5-15d0-41f5-b266-d644b9ecdd86"
      },
      "execution_count": 13,
      "outputs": [
        {
          "output_type": "stream",
          "name": "stdout",
          "text": [
            "4\n",
            "\n",
            "B          0.16846        1.84165        1.03794\n",
            "H         -0.17055        0.90757        1.67639\n",
            "H         -0.18352        2.92603        1.34657\n",
            "H          0.91960        1.69936        0.13763\n",
            "\n"
          ]
        }
      ]
    },
    {
      "cell_type": "markdown",
      "source": [
        "## rdkit / smiles to sdf"
      ],
      "metadata": {
        "id": "S4zgr8lotd_C"
      }
    },
    {
      "cell_type": "code",
      "source": [
        "from rdkit import Chem\n",
        "from rdkit.Chem import AllChem\n",
        "\n",
        "def smiles2mol(smiles:str)->str:\n",
        "  \"\"\"\n",
        "    get mol format block from smiles\n",
        "  \"\"\"\n",
        "  # smiles to mol block\n",
        "  mol = Chem.MolFromSmiles(smiles)\n",
        "  mol = Chem.AddHs(mol)\n",
        "\n",
        "  # sanitize\n",
        "  Chem.SanitizeMol(mol)\n",
        "\n",
        "  # generate 3D embedded conformers\n",
        "  num_conformers = 50\n",
        "  params = AllChem.ETKDGv3() # embedding algorithm\n",
        "  params.randomSeed = 42\n",
        "\n",
        "  conformer_ids = AllChem.EmbedMultipleConfs(mol, numConfs=num_conformers)\n",
        "\n",
        "  energies = []\n",
        "  for conf_id in conformer_ids:\n",
        "    # MMFF94 힘장 설정\n",
        "    ff = AllChem.UFFGetMoleculeForceField(mol, confId=conf_id)\n",
        "\n",
        "    # force field optimize\n",
        "    ff.Minimize()\n",
        "    energy = ff.CalcEnergy()\n",
        "    energies.append((conf_id, energy))\n",
        "\n",
        "  # get lowest conformer\n",
        "  lowest_energy_idx, _ = min(energies, key=lambda x: x[-1])\n",
        "\n",
        "  # mol format block\n",
        "  mol_block = Chem.MolToMolBlock(mol, confId=lowest_energy_idx)\n",
        "\n",
        "  return mol_block\n"
      ],
      "metadata": {
        "id": "eWbIhoZJtckR"
      },
      "execution_count": 15,
      "outputs": []
    },
    {
      "cell_type": "code",
      "source": [
        "def rdkit_optimize(smiles:str, charge:int, forcefield:str, mmffVariant=None)->str:\n",
        "  \"\"\"\n",
        "  Description\n",
        "  -----------\n",
        "  rdkit geometry optimize using force field\n",
        "\n",
        "  Parameters\n",
        "  ----------\n",
        "    - smiles(str) : smiles string\n",
        "    - charge(int) : molecular total charge\n",
        "    - forcefield(str) : supported force field : ['MMFF', 'UFF']\n",
        "    - mmffVariant(str) : MMFF forcefield variants : ['MMFF94', 'MMFF94s']\n",
        "\n",
        "  Returns\n",
        "  -------\n",
        "    - optimized xyz string(str)\n",
        "  \"\"\"\n",
        "  # forcefield parameter check\n",
        "  if forcefield == \"MMFF\" and mmffVariant not in [\"MMFF94\", \"MMFF94s\"]: raise ValueError(f'mmffVariant expected \"MMFF94\" or \"MMFF94s\", but got {mmffVariant}')\n",
        "\n",
        "  # read smiles\n",
        "  mol_block = smiles2mol(smiles)\n",
        "  mol = Chem.MolFromMolBlock(mol_block, removeHs=False)\n",
        "\n",
        "  # charge check\n",
        "  Chem.rdPartialCharges.ComputeGasteigerCharges(mol)\n",
        "  partial_chargies = [atom.GetDoubleProp('_GasteigerCharge') for atom in mol.GetAtoms()]\n",
        "  charge_from_molecule = round(sum(partial_chargies))\n",
        "  charge_from_input = charge\n",
        "\n",
        "  if charge_from_molecule != charge_from_input:\n",
        "    print(\"Incosistency of charge\")\n",
        "    return None\n",
        "\n",
        "  # optimize\n",
        "  if forcefield == 'UFF':\n",
        "      status = AllChem.UFFOptimizeMolecule(mol, maxIters=2000)\n",
        "  elif forcefield == 'MMFF':\n",
        "      status = AllChem.MMFFOptimizeMolecule(mol, mmffVariant, maxIters=2000)\n",
        "  else:\n",
        "      raise ValueError(f\"{forcefield} is supported. Use 'UFF' or 'MMFF'.\")\n",
        "\n",
        "  # optimize status check\n",
        "  if status == 1:\n",
        "     print(\"Optimizer : Not converged in 2000 iteractions.\")\n",
        "     return None\n",
        "  elif status == -1:\n",
        "     print(\"Optimizer : Fail to optimize, status code : -1\")\n",
        "     return None\n",
        "\n",
        "  optimized_xyz = Chem.MolToXYZBlock(mol)\n",
        "  return optimized_xyz"
      ],
      "metadata": {
        "id": "aQmD8QHUZ0ga"
      },
      "execution_count": 16,
      "outputs": []
    },
    {
      "cell_type": "code",
      "source": [
        "# test\n",
        "\n",
        "smiles = \"CC1=CC(=O)/C(=C(/C)\\[O-])/C(=O)O1\"\n",
        "\n",
        "print(rdkit_optimize(smiles, -1, \"MMFF\", \"MMFF94s\"))"
      ],
      "metadata": {
        "colab": {
          "base_uri": "https://localhost:8080/"
        },
        "id": "2WRZtjDsX9na",
        "outputId": "65b831d7-eeed-432d-d9bf-d4eccd7d26ef"
      },
      "execution_count": 17,
      "outputs": [
        {
          "output_type": "stream",
          "name": "stdout",
          "text": [
            "19\n",
            "\n",
            "C      3.160456    0.508230   -0.468472\n",
            "C      1.801519   -0.023702   -0.152867\n",
            "C      1.329498   -1.176282   -0.637112\n",
            "C     -0.020043   -1.610504   -0.239202\n",
            "O     -0.275473   -2.808919   -0.227811\n",
            "C     -0.894151   -0.487054    0.199174\n",
            "C     -2.153162   -0.345135   -0.297208\n",
            "C     -2.986088    0.864427    0.114711\n",
            "O     -2.793774   -1.046531   -1.129284\n",
            "C     -0.247332    0.531404    1.065041\n",
            "O     -0.796003    1.148896    1.972195\n",
            "O      1.073165    0.769049    0.763422\n",
            "H      3.079504    1.491096   -0.943462\n",
            "H      3.711736   -0.150197   -1.147732\n",
            "H      3.748229    0.615006    0.448800\n",
            "H      1.885397   -1.841424   -1.282325\n",
            "H     -2.401239    1.790367    0.064086\n",
            "H     -3.857480    1.035352   -0.533031\n",
            "H     -3.364862    0.735822    1.135777\n",
            "\n"
          ]
        }
      ]
    },
    {
      "cell_type": "markdown",
      "source": [
        "## openbabel / from smiles"
      ],
      "metadata": {
        "id": "lIe1Fph0Z5_s"
      }
    },
    {
      "cell_type": "code",
      "source": [
        "def openbabel_optimize(smiles:str, charge:int, forcefield:str)->str:\n",
        "  \"\"\"\n",
        "  Description\n",
        "  -----------\n",
        "  openbabel geometry optimize using force field\n",
        "\n",
        "  Parameters\n",
        "  ----------\n",
        "    - smiles(str) : smiles string\n",
        "    - charge(int) : molecular total charge\n",
        "    - forcefield(str) : supported force field : ['uff', 'mmff94', 'mmff94s', 'ghemical', 'gaff']\n",
        "\n",
        "  Returns\n",
        "  -------\n",
        "    - optimized xyz string(str)\n",
        "  \"\"\"\n",
        "  # read smiles\n",
        "  mol_block = smiles2mol(smiles)\n",
        "  molecule = pybel.readstring(format=\"mol\", string=mol_block)\n",
        "\n",
        "  # set charge\n",
        "  charge_from_molecule = molecule.charge\n",
        "  charge_from_input = charge\n",
        "\n",
        "  if charge_from_molecule != charge_from_input:\n",
        "    print(\"Incosistency of charge\")\n",
        "    return None\n",
        "\n",
        "  # optmize using FF\n",
        "  molecule.localopt(forcefield=forcefield)\n",
        "  optimized_xyz = molecule.write(\"xyz\")\n",
        "  return optimized_xyz"
      ],
      "metadata": {
        "id": "fnqUeXrdZ9E9"
      },
      "execution_count": 28,
      "outputs": []
    },
    {
      "cell_type": "code",
      "source": [
        "# test\n",
        "\n",
        "smiles = \"CC1=CC(=O)/C(=C(/C)\\[O-])/C(=O)O1\"\n",
        "\n",
        "print(openbabel_optimize(smiles, -1, \"ghemical\"))"
      ],
      "metadata": {
        "colab": {
          "base_uri": "https://localhost:8080/"
        },
        "id": "meIuuj1eXs7q",
        "outputId": "93a60e7c-6c2d-4a9f-a491-e3714d6ab0da"
      },
      "execution_count": 37,
      "outputs": [
        {
          "output_type": "stream",
          "name": "stdout",
          "text": [
            "19\n",
            "\n",
            "C         -3.39013       -0.20083       -0.06628\n",
            "C         -1.90453        0.02615       -0.05303\n",
            "C         -1.36517        1.24233       -0.17709\n",
            "C          0.08537        1.42869       -0.16014\n",
            "O          0.56918        2.54296       -0.27408\n",
            "C          0.91283        0.23019       -0.00217\n",
            "C          2.24875        0.32030        0.02270\n",
            "C          3.19211       -0.84094        0.17948\n",
            "O          2.84994        1.50170       -0.09577\n",
            "C          0.17663       -1.04178        0.12305\n",
            "O          0.77823       -2.09420        0.25849\n",
            "O         -1.16190       -1.07990        0.09220\n",
            "H         -3.61129       -1.27233        0.04973\n",
            "H         -3.85659        0.35430        0.76109\n",
            "H         -3.80977        0.15179       -1.02015\n",
            "H         -2.01110        2.11177       -0.29288\n",
            "H          4.23079       -0.47822        0.16553\n",
            "H          3.00991       -1.34951        1.13781\n",
            "H          3.05683       -1.55257       -0.64848\n",
            "\n"
          ]
        }
      ]
    },
    {
      "cell_type": "markdown",
      "source": [
        "## mopac"
      ],
      "metadata": {
        "id": "-qK67Un0Sy-8"
      }
    },
    {
      "cell_type": "code",
      "source": [
        "# utils\n",
        "from io import StringIO\n",
        "from IPython.display import clear_output\n",
        "\n",
        "# ase / xtb\n",
        "import ase\n",
        "from ase.io import read\n",
        "from ase.calculators.mopac import MOPAC\n",
        "from ase.optimize import BFGS\n",
        "\n",
        "def mopac_optimize(xyz_string:str, charge:int, method:str, clear_log=True)->str:\n",
        "  \"\"\"\n",
        "  Description\n",
        "  -----------\n",
        "  xtb geometry optimize 함수\n",
        "\n",
        "  Parameters\n",
        "  ----------\n",
        "  - xyz_string (str) : xyz format string\n",
        "  - charge (int) : molecular total chage\n",
        "  - clear_log (bool) : clear optimization logging\n",
        "  - method (str) : supported semi-empirical method\n",
        "    - supported methods = ['AM1', 'MNDO', 'MNDOD', 'PM3', 'PM6', 'PM6-D3',\n",
        "                           'PM6-DH+', 'PM6-DH2', 'PM6-DH2X', 'PM6-D3H4',\n",
        "                           'PM6-D3H4X', 'PMEP', 'PM7', 'PM7-TS', 'RM1']\n",
        "\n",
        "  Returns\n",
        "  -------\n",
        "  - optimized xyz (str)\n",
        "  \"\"\"\n",
        "\n",
        "  # convert xyz format --> ase.Atoms\n",
        "  mol = ase.io.read(StringIO(xyz_string), format=\"xyz\")\n",
        "\n",
        "  # set XTB calculator\n",
        "  mol.calc = MOPAC(method=method, charge=charge )\n",
        "\n",
        "  # geometry optimize\n",
        "  optimizer = BFGS(mol)\n",
        "  optimizer.run()\n",
        "\n",
        "  # get xyz format string\n",
        "  with StringIO() as output:\n",
        "    ase.io.write(output, mol, format=\"xyz\")\n",
        "    opt_xyz = output.getvalue()\n",
        "\n",
        "  # clear cell output\n",
        "  if clear_log:\n",
        "    clear_output()\n",
        "\n",
        "  return opt_xyz"
      ],
      "metadata": {
        "id": "oRF8uEmES0B-"
      },
      "execution_count": 39,
      "outputs": []
    },
    {
      "cell_type": "code",
      "source": [
        "# test\n",
        "\n",
        "xyz_input = \"\"\"4\n",
        "\n",
        "B     -0.045012    1.759938    0.842995\n",
        "H     -0.081846    1.135119    1.675327\n",
        "H     -0.095049    2.764070    1.441421\n",
        "H      0.955910    1.715485    0.238776\n",
        "\"\"\"\n",
        "print(mopac_optimize(xyz_input, charge=0, method=\"PM6-D3\"))"
      ],
      "metadata": {
        "colab": {
          "base_uri": "https://localhost:8080/"
        },
        "id": "rN4AizmGVTEN",
        "outputId": "f060235a-663c-4891-8778-58154501c68c"
      },
      "execution_count": 40,
      "outputs": [
        {
          "output_type": "stream",
          "name": "stdout",
          "text": [
            "4\n",
            "\n",
            "B       0.183532316822301      1.843732602886569      1.049877548336631\n",
            "H      -0.154961793768968      0.913605099078971      1.692628681773127\n",
            "H      -0.187596385099465      2.926506751249641      1.336413956175056\n",
            "H       0.893028859744355      1.690767545074082      0.119598816107866\n",
            "\n"
          ]
        }
      ]
    },
    {
      "cell_type": "code",
      "source": [],
      "metadata": {
        "id": "FkgIJkjMWJD2"
      },
      "execution_count": null,
      "outputs": []
    },
    {
      "cell_type": "markdown",
      "source": [
        "## torchani"
      ],
      "metadata": {
        "id": "GIXIWlIcWUHp"
      }
    },
    {
      "cell_type": "code",
      "source": [
        "# utils\n",
        "from io import StringIO\n",
        "from IPython.display import clear_output\n",
        "\n",
        "from ase.optimize import BFGS\n",
        "import torchani\n",
        "import ase\n",
        "from ase import Atoms\n",
        "from ase.io import read\n",
        "\n",
        "def torchani_optimize(xyz_string:str, charge:int, model:str, clear_log=True)->str:\n",
        "  \"\"\"\n",
        "  Description\n",
        "  -----------\n",
        "  torchani geometry optimize 함수\n",
        "\n",
        "  Parameters\n",
        "  ----------\n",
        "  - xyz_string (str) : xyz format string\n",
        "  - charge (int) : molecular total chage\n",
        "  - model (str) : torchani ML potential model\n",
        "  - clear_log (bool) : clear optimization logging\n",
        "\n",
        "  Supported models\n",
        "  ----------------\n",
        "  - ani1ccx :  CCSD(T)*/CBS (DPLNO-CCSD(T)) | HCNO\n",
        "  - ani1x   :  wB97X/6-31G(d)               | HCNO\n",
        "  - ani2x   :  wB97X/6-31G(d)               | HCNOFSCl\n",
        "\n",
        "  Returns\n",
        "  -------\n",
        "  - optimized xyz (str)\n",
        "  \"\"\"\n",
        "  # convert xyz format --> ase.Atoms\n",
        "  mol = ase.io.read(StringIO(xyz_string), format=\"xyz\")\n",
        "\n",
        "  # check compatibility between the torchani model and the elements in the molecule\n",
        "  model = model.lower()\n",
        "  supporting_elements = {\n",
        "      \"ani1ccx\" : {'H', 'C', 'N', 'O'},\n",
        "      \"ani1x\"   : {'H', 'C', 'N', 'O'},\n",
        "      \"ani2x\"   : {'H', 'C', 'N', 'O', 'F', 'S', 'Cl'}}\n",
        "\n",
        "  elements_in_mol = set(mol.get_chemical_symbols())\n",
        "  unsupported_elements = elements_in_mol - supporting_elements[model]\n",
        "  if len(unsupported_elements) != 0:\n",
        "    print(f\"{unsupported_elements} are not compatible with the {model} model\")\n",
        "    return None\n",
        "\n",
        "  # torchani supports only neutral compounds\n",
        "  if charge != 0:\n",
        "    print(\"torchani supports only neutral molecule\")\n",
        "    return None\n",
        "\n",
        "  # set torchani calculator\n",
        "  if model == \"ani1ccx\":\n",
        "    mol.calc = torchani.models.ANI1ccx().ase()\n",
        "  elif model == \"ani1x\":\n",
        "    mol.calc = torchani.models.ANI1x().ase()\n",
        "  elif model == \"ani2x\":\n",
        "    mol.calc = torchani.models.ANI2x().ase()\n",
        "  else:\n",
        "    raise ValueError(\"Not available model\")\n",
        "\n",
        "  # geometry optimize\n",
        "  optimizer = BFGS(mol)\n",
        "  optimizer.run()\n",
        "\n",
        "  # get xyz format string\n",
        "  with StringIO() as output:\n",
        "    ase.io.write(output, mol, format=\"xyz\")\n",
        "    opt_xyz = output.getvalue()\n",
        "\n",
        "  # clear cell output\n",
        "  if clear_log:\n",
        "    clear_output()\n",
        "\n",
        "  return opt_xyz"
      ],
      "metadata": {
        "id": "046wFKSqWoZN"
      },
      "execution_count": 41,
      "outputs": []
    },
    {
      "cell_type": "code",
      "source": [
        "# test\n",
        "\n",
        "xyz_input = \"\"\"4\n",
        "\n",
        "B     -0.045012    1.759938    0.842995\n",
        "H     -0.081846    1.135119    1.675327\n",
        "H     -0.095049    2.764070    1.441421\n",
        "H      0.955910    1.715485    0.238776\n",
        "\"\"\"\n",
        "print(torchani_optimize(xyz_input, charge=0, model=\"ani1ccx\"))"
      ],
      "metadata": {
        "colab": {
          "base_uri": "https://localhost:8080/"
        },
        "id": "FQmKhp-dd7I7",
        "outputId": "57da0da5-f23d-4c55-9fd4-16d67b03859b"
      },
      "execution_count": 42,
      "outputs": [
        {
          "output_type": "stream",
          "name": "stdout",
          "text": [
            "{'B'} are not compatible with the ani1ccx model\n",
            "None\n"
          ]
        }
      ]
    },
    {
      "cell_type": "code",
      "source": [
        "# test\n",
        "\n",
        "xyz_input = \"\"\"4\n",
        "\n",
        "N     -0.045012    1.759938    0.842995\n",
        "H     -0.081846    1.135119    1.675327\n",
        "H     -0.095049    2.764070    1.441421\n",
        "H      0.955910    1.715485    0.238776\n",
        "\"\"\"\n",
        "print(torchani_optimize(xyz_input, charge=0, model=\"ani1ccx\"))"
      ],
      "metadata": {
        "colab": {
          "base_uri": "https://localhost:8080/"
        },
        "id": "nm-LLKtHpp-U",
        "outputId": "824a329d-6723-4647-b947-abd4938de421"
      },
      "execution_count": 43,
      "outputs": [
        {
          "output_type": "stream",
          "name": "stdout",
          "text": [
            "4\n",
            "\n",
            "N      -0.039554717139012      1.812747246639377      0.876698051864045\n",
            "H      -0.026082400848078      1.112520441426448      1.603849091973325\n",
            "H      -0.037526407039161      2.712379761560234      1.336168958685682\n",
            "H       0.837166522664159      1.736964545321463      0.381802897982090\n",
            "\n"
          ]
        }
      ]
    },
    {
      "cell_type": "markdown",
      "source": [
        "## xtb"
      ],
      "metadata": {
        "id": "sPYE6JRAX3XK"
      }
    },
    {
      "cell_type": "code",
      "source": [
        "# utils\n",
        "from io import StringIO\n",
        "from IPython.display import clear_output\n",
        "\n",
        "# ase / xtb\n",
        "import ase\n",
        "from ase.io import read\n",
        "from xtb_ase import XTB\n",
        "from ase.optimize import BFGS\n",
        "\n",
        "def xtb_optimize(xyz_string:str, charge:int, method:str,\n",
        "                 spinpol:bool|None=None, uhf:int=0, clear_log=True)->str:\n",
        "  \"\"\"\n",
        "  Description\n",
        "  -----------\n",
        "  xtb geometry optimize 함수\n",
        "\n",
        "  Parameters\n",
        "  ----------\n",
        "  - xyz_string (str) : xyz format string\n",
        "  - charge (int) : molecular total chage\n",
        "  - method (str) : xtb method\n",
        "    - supported methods : [\"gfn0-xtb\", \"gfn1-xtb\", \"gfn2-xTB\", \"gfn-ff\"]\n",
        "  spinpol ( bool | None ) : number of unpaired electrons\n",
        "  uhf (int) : whether to use spin-polarized xTB ( see :  https://github.com/Andrew-S-Rosen/xtb_ase/blob/main/src/xtb_ase/calculator.py )\n",
        "  clear_log (bool) : clear optimization logging\n",
        "\n",
        "  Returns\n",
        "  -------\n",
        "  - optimized xyz (str)\n",
        "  \"\"\"\n",
        "\n",
        "  # convert xyz format --> ase.Atoms\n",
        "  mol = ase.io.read(StringIO(xyz_string), format=\"xyz\")\n",
        "\n",
        "  # set XTB calculator\n",
        "  mol.calc = XTB(method=method, charge=charge, spinpol=spinpol, uhf=uhf)\n",
        "\n",
        "  # geometry optimize\n",
        "  optimizer = BFGS(mol)\n",
        "  optimizer.run()\n",
        "\n",
        "  # get xyz format string\n",
        "  with StringIO() as output:\n",
        "    ase.io.write(output, mol, format=\"xyz\")\n",
        "    opt_xyz = output.getvalue()\n",
        "\n",
        "  # clear cell output\n",
        "  if clear_log:\n",
        "    clear_output()\n",
        "\n",
        "  return opt_xyz"
      ],
      "metadata": {
        "id": "q79i-vm_YA4y"
      },
      "execution_count": 24,
      "outputs": []
    },
    {
      "cell_type": "code",
      "source": [
        "# test\n",
        "\n",
        "xyz_input = \"\"\"4\n",
        "\n",
        "B     -0.045012    1.759938    0.842995\n",
        "H     -0.081846    1.135119    1.675327\n",
        "H     -0.095049    2.764070    1.441421\n",
        "H      0.955910    1.715485    0.238776\n",
        "\"\"\"\n",
        "print(xtb_optimize(xyz_input, charge=0, method=\"gfn2-xTB\"))"
      ],
      "metadata": {
        "colab": {
          "base_uri": "https://localhost:8080/"
        },
        "id": "3ZPD2D0uukeq",
        "outputId": "dd387afa-87d8-4365-8cab-bd07dc5aff30"
      },
      "execution_count": 25,
      "outputs": [
        {
          "output_type": "stream",
          "name": "stdout",
          "text": [
            "4\n",
            "\n",
            "B       0.184806400637684      1.842624356253694      1.049467580258195\n",
            "H      -0.157990418311179      0.926768883590662      1.682305732999112\n",
            "H      -0.184077438630232      2.910182964724403      1.331301749208673\n",
            "H       0.891264456303727      1.695035795431239      0.135443937534018\n",
            "\n"
          ]
        }
      ]
    },
    {
      "cell_type": "markdown",
      "source": [
        "## aimnet2"
      ],
      "metadata": {
        "id": "in_oDNHTYBDV"
      }
    },
    {
      "cell_type": "code",
      "source": [
        "from aimnet2ase import aimnet2_optimize as aimnet2_optimize_\n",
        "\n",
        "def aimnet2_optimize(xyz_string: str, charge: int, model: str, clear_log:bool=True):\n",
        "  return aimnet2_optimize_(xyz_string, charge, model, clear_log)"
      ],
      "metadata": {
        "id": "2mVQ1FyKYA7H"
      },
      "execution_count": 51,
      "outputs": []
    },
    {
      "cell_type": "code",
      "source": [
        "# test\n",
        "\n",
        "xyz_input = \"\"\"4\n",
        "\n",
        "N     -0.045012    1.759938    0.842995\n",
        "H     -0.081846    1.135119    1.675327\n",
        "H     -0.095049    2.764070    1.441421\n",
        "H      0.955910    1.715485    0.238776\n",
        "\"\"\"\n",
        "print(aimnet2_optimize(xyz_input, charge=0, model=\"wb97m-d3\"))"
      ],
      "metadata": {
        "id": "vsLLX0OaYCLX",
        "colab": {
          "base_uri": "https://localhost:8080/"
        },
        "outputId": "507592e4-b2ef-41d1-84f0-38b8f9077ce7"
      },
      "execution_count": 52,
      "outputs": [
        {
          "output_type": "stream",
          "name": "stdout",
          "text": [
            "4\n",
            "\n",
            "N      -0.036423140501540      1.813190432568083      0.879421414940292\n",
            "H      -0.028234171783795      1.109123957521246      1.604805087875881\n",
            "H      -0.040044284735379      2.715917564679369      1.336586058814711\n",
            "H       0.838704590701828      1.736380039819962      0.377706440435397\n",
            "\n"
          ]
        }
      ]
    },
    {
      "cell_type": "code",
      "source": [],
      "metadata": {
        "id": "0TXWYieTgGXG"
      },
      "execution_count": null,
      "outputs": []
    }
  ]
}