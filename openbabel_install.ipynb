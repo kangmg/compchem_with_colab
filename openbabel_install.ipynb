{
  "nbformat": 4,
  "nbformat_minor": 0,
  "metadata": {
    "colab": {
      "provenance": [],
      "authorship_tag": "ABX9TyMBmTGqr70yM+wFDr5HQ24r",
      "include_colab_link": true
    },
    "kernelspec": {
      "name": "python3",
      "display_name": "Python 3"
    },
    "language_info": {
      "name": "python"
    }
  },
  "cells": [
    {
      "cell_type": "markdown",
      "metadata": {
        "id": "view-in-github",
        "colab_type": "text"
      },
      "source": [
        "<a href=\"https://colab.research.google.com/github/kangmg/compchem_with_colab/blob/main/openbabel_install.ipynb\" target=\"_parent\"><img src=\"https://colab.research.google.com/assets/colab-badge.svg\" alt=\"Open In Colab\"/></a>"
      ]
    },
    {
      "cell_type": "code",
      "source": [
        "!python --version # Python 3.10.12\n",
        "!cmake --version # cmake version 3.27.9\n",
        "!make --version # GNU Make 4.3"
      ],
      "metadata": {
        "colab": {
          "base_uri": "https://localhost:8080/"
        },
        "id": "knJxzHXKE59M",
        "outputId": "ddb76ed2-18e3-4de5-ec42-8fe4d08537ff"
      },
      "execution_count": 1,
      "outputs": [
        {
          "output_type": "stream",
          "name": "stdout",
          "text": [
            "Python 3.10.12\n",
            "cmake version 3.27.9\n",
            "\n",
            "CMake suite maintained and supported by Kitware (kitware.com/cmake).\n",
            "GNU Make 4.3\n",
            "Built for x86_64-pc-linux-gnu\n",
            "Copyright (C) 1988-2020 Free Software Foundation, Inc.\n",
            "License GPLv3+: GNU GPL version 3 or later <http://gnu.org/licenses/gpl.html>\n",
            "This is free software: you are free to change and redistribute it.\n",
            "There is NO WARRANTY, to the extent permitted by law.\n"
          ]
        }
      ]
    },
    {
      "cell_type": "code",
      "source": [
        "\"\"\"\n",
        "Runtime : ~3 mins\n",
        "\"\"\"\n",
        "\n",
        "# clear cell output\n",
        "from IPython.display import clear_output\n",
        "\n",
        "# 의존성 프로그램 설치\n",
        "!apt install swig # version : 4.0.2\n",
        "\n",
        "# openbabel 소스코드 설치\n",
        "!wget -q https://github.com/openbabel/openbabel/archive/refs/tags/openbabel-3-1-1.tar.gz -O openbable.tar.gz\n",
        "!tar vxf ./openbable.tar.gz\n",
        "!rm ./openbable.tar.gz\n",
        "\n",
        "# 소스코드 빌드 & 파이썬 바인딩\n",
        "!mkdir ./build\n",
        "%cd build\n",
        "!cmake ../openbabel-openbabel-3-1-1 -DPYTHON_BINDINGS=ON -DRUN_SWIG=ON\n",
        "clear_output()\n",
        "!echo \"%%%%%%%%     Compiling . . .  %%%%%%%%\"\n",
        "!make -j2\n",
        "clear_output()\n",
        "!echo \"%%%%%%%%     Building . . .  %%%%%%%%\"\n",
        "!make install\n",
        "%cd ..\n",
        "clear_output()\n",
        "!echo \"openbabel successfully installed\""
      ],
      "metadata": {
        "colab": {
          "base_uri": "https://localhost:8080/"
        },
        "id": "kLjAyOLewwIv",
        "outputId": "d7f42b91-54dc-4d3c-88d5-56479ccaa7a3"
      },
      "execution_count": 19,
      "outputs": [
        {
          "output_type": "stream",
          "name": "stdout",
          "text": [
            "openbabel successfully installed\n"
          ]
        }
      ]
    },
    {
      "cell_type": "code",
      "source": [
        "!obabel # Open Babel 3.1.0"
      ],
      "metadata": {
        "colab": {
          "base_uri": "https://localhost:8080/"
        },
        "id": "R5A6irXu4m-X",
        "outputId": "05bc23e8-690e-496d-e4c1-d84a5affd768"
      },
      "execution_count": 9,
      "outputs": [
        {
          "output_type": "stream",
          "name": "stdout",
          "text": [
            "No input file or format spec or possibly a misplaced option.\n",
            "Most options must come after the input files. (-i -o -O -m can be anywhwere.)\n",
            "\n",
            "Open Babel 3.1.0 -- May 21 2024 -- 07:50:18\n",
            "Usage:\n",
            "obabel [-i<input-type>] <infilename> [-o<output-type>] -O<outfilename> [Options]\n",
            "Try  -H option for more information.\n"
          ]
        }
      ]
    },
    {
      "cell_type": "code",
      "source": [
        "from openbabel import openbabel, pybel\n",
        "molecule = pybel.readstring(\"smi\", 'CCC')\n",
        "molecule"
      ],
      "metadata": {
        "colab": {
          "base_uri": "https://localhost:8080/",
          "height": 122
        },
        "id": "8cpxqqQa2eSx",
        "outputId": "d4c1f915-c1a3-453f-d553-c9156a6ab7ce"
      },
      "execution_count": 5,
      "outputs": [
        {
          "output_type": "execute_result",
          "data": {
            "text/plain": [
              "<openbabel.pybel.Molecule at 0x789abd4b3340>"
            ],
            "image/svg+xml": "<svg xmlns=\"http://www.w3.org/2000/svg\" width=\"100\" height=\"100\" x=\"0\" y=\"0\" viewBox=\"0 0 149.282 100\" font-family=\"sans-serif\" stroke=\"rgb(0,0,0)\" stroke-width=\"2\" stroke-linecap=\"round\">\n<line x1=\"98.0\" y1=\"53.5\" x2=\"74.6\" y2=\"40.0\" opacity=\"1.0\" stroke=\"rgb(0,0,0)\" stroke-width=\"2.0\" />\n<line x1=\"74.6\" y1=\"40.0\" x2=\"51.3\" y2=\"53.5\" opacity=\"1.0\" stroke=\"rgb(0,0,0)\" stroke-width=\"2.0\" />\n<text x=\"105.282032\" y=\"68.000000\" fill=\"rgb(102,102,102)\" stroke-width=\"0\" font-weight=\"bold\" font-size=\"16\">CH</text>\n<text x=\"129.282032\" y=\"71.680000\" fill=\"rgb(102,102,102)\" stroke-width=\"0\" font-weight=\"bold\" font-size=\"13\">3</text>\n<text x=\"14.000000\" y=\"68.000000\" fill=\"rgb(102,102,102)\" stroke-width=\"0\" font-weight=\"bold\" font-size=\"16\">H</text>\n<text x=\"26.000000\" y=\"71.680000\" fill=\"rgb(102,102,102)\" stroke-width=\"0\" font-weight=\"bold\" font-size=\"13\">3</text>\n<text x=\"32.500000\" y=\"68.000000\" fill=\"rgb(102,102,102)\" stroke-width=\"0\" font-weight=\"bold\" font-size=\"16\">C</text>\n</svg>\n"
          },
          "metadata": {},
          "execution_count": 5
        }
      ]
    },
    {
      "cell_type": "code",
      "source": [
        "from openbabel import openbabel, pybel\n",
        "\n",
        "aspirin_smiles = \"CC(=O)OC1=CC=CC=C1C(=O)O\"\n",
        "aspirin = pybel.readstring(\"smi\", aspirin_smiles)\n",
        "\n",
        "display(aspirin)\n",
        "\n",
        "# optimize\n",
        "aspirin.localopt(forcefield=\"uff\")\n",
        "\n",
        "# opt xyz\n",
        "print(aspirin.write(\"xyz\"))\n"
      ],
      "metadata": {
        "colab": {
          "base_uri": "https://localhost:8080/",
          "height": 539
        },
        "id": "mjJan3FxEcvv",
        "outputId": "583a56de-06eb-4071-fd2f-025892861e20"
      },
      "execution_count": 18,
      "outputs": [
        {
          "output_type": "display_data",
          "data": {
            "text/plain": [
              "<openbabel.pybel.Molecule at 0x789aef41b910>"
            ],
            "image/svg+xml": "<svg xmlns=\"http://www.w3.org/2000/svg\" width=\"100\" height=\"100\" x=\"0\" y=\"0\" viewBox=\"0 0 253.205 260\" font-family=\"sans-serif\" stroke=\"rgb(0,0,0)\" stroke-width=\"2\" stroke-linecap=\"round\">\n<line x1=\"51.3\" y1=\"166.5\" x2=\"74.6\" y2=\"180.0\" opacity=\"1.0\" stroke=\"rgb(0,0,0)\" stroke-width=\"2.0\" />\n<line x1=\"77.6\" y1=\"180.0\" x2=\"77.6\" y2=\"207.0\" opacity=\"1.0\" stroke=\"rgb(0,0,0)\" stroke-width=\"2.0\" />\n<line x1=\"71.6\" y1=\"180.0\" x2=\"71.6\" y2=\"207.0\" opacity=\"1.0\" stroke=\"rgb(0,0,0)\" stroke-width=\"2.0\" />\n<line x1=\"74.6\" y1=\"180.0\" x2=\"98.0\" y2=\"166.5\" opacity=\"1.0\" stroke=\"rgb(0,0,0)\" stroke-width=\"2.0\" />\n<line x1=\"109.3\" y1=\"147.0\" x2=\"109.3\" y2=\"120.0\" opacity=\"1.0\" stroke=\"rgb(0,0,0)\" stroke-width=\"2.0\" />\n<line x1=\"143.9\" y1=\"100.0\" x2=\"178.6\" y2=\"120.0\" opacity=\"1.0\" stroke=\"rgb(0,0,0)\" stroke-width=\"2.0\" />\n<line x1=\"181.6\" y1=\"120.0\" x2=\"181.6\" y2=\"147.0\" opacity=\"1.0\" stroke=\"rgb(0,0,0)\" stroke-width=\"2.0\" />\n<line x1=\"175.6\" y1=\"120.0\" x2=\"175.6\" y2=\"147.0\" opacity=\"1.0\" stroke=\"rgb(0,0,0)\" stroke-width=\"2.0\" />\n<line x1=\"178.6\" y1=\"120.0\" x2=\"201.9\" y2=\"106.5\" opacity=\"1.0\" stroke=\"rgb(0,0,0)\" stroke-width=\"2.0\" />\n<line x1=\"74.6\" y1=\"100.0\" x2=\"109.3\" y2=\"120.0\" opacity=\"1.0\" stroke=\"rgb(0,0,0)\" stroke-width=\"2.0\" />\n<line x1=\"83.4\" y1=\"96.8\" x2=\"107.7\" y2=\"110.8\" opacity=\"1.0\" stroke=\"rgb(0,0,0)\" stroke-width=\"2.0\" />\n<line x1=\"109.3\" y1=\"120.0\" x2=\"143.9\" y2=\"100.0\" opacity=\"1.0\" stroke=\"rgb(0,0,0)\" stroke-width=\"2.0\" />\n<line x1=\"143.9\" y1=\"100.0\" x2=\"143.9\" y2=\"60.0\" opacity=\"1.0\" stroke=\"rgb(0,0,0)\" stroke-width=\"2.0\" />\n<line x1=\"136.7\" y1=\"94.0\" x2=\"136.7\" y2=\"66.0\" opacity=\"1.0\" stroke=\"rgb(0,0,0)\" stroke-width=\"2.0\" />\n<line x1=\"143.9\" y1=\"60.0\" x2=\"109.3\" y2=\"40.0\" opacity=\"1.0\" stroke=\"rgb(0,0,0)\" stroke-width=\"2.0\" />\n<line x1=\"109.3\" y1=\"40.0\" x2=\"74.6\" y2=\"60.0\" opacity=\"1.0\" stroke=\"rgb(0,0,0)\" stroke-width=\"2.0\" />\n<line x1=\"107.7\" y1=\"49.2\" x2=\"83.4\" y2=\"63.2\" opacity=\"1.0\" stroke=\"rgb(0,0,0)\" stroke-width=\"2.0\" />\n<line x1=\"74.6\" y1=\"60.0\" x2=\"74.6\" y2=\"100.0\" opacity=\"1.0\" stroke=\"rgb(0,0,0)\" stroke-width=\"2.0\" />\n<text x=\"14.000000\" y=\"168.000000\" fill=\"rgb(102,102,102)\" stroke-width=\"0\" font-weight=\"bold\" font-size=\"16\">H</text>\n<text x=\"26.000000\" y=\"171.680000\" fill=\"rgb(102,102,102)\" stroke-width=\"0\" font-weight=\"bold\" font-size=\"13\">3</text>\n<text x=\"32.500000\" y=\"168.000000\" fill=\"rgb(102,102,102)\" stroke-width=\"0\" font-weight=\"bold\" font-size=\"16\">C</text>\n<text x=\"68.641016\" y=\"228.000000\" fill=\"rgb(255,12,12)\" stroke-width=\"0\" font-weight=\"bold\" font-size=\"16\">O</text>\n<text x=\"103.282032\" y=\"168.000000\" fill=\"rgb(255,12,12)\" stroke-width=\"0\" font-weight=\"bold\" font-size=\"16\">O</text>\n<text x=\"172.564065\" y=\"168.000000\" fill=\"rgb(255,12,12)\" stroke-width=\"0\" font-weight=\"bold\" font-size=\"16\">O</text>\n<text x=\"207.205081\" y=\"108.000000\" fill=\"rgb(255,12,12)\" stroke-width=\"0\" font-weight=\"bold\" font-size=\"16\">OH</text>\n</svg>\n"
          },
          "metadata": {}
        },
        {
          "output_type": "stream",
          "name": "stdout",
          "text": [
            "21\n",
            "\n",
            "C          1.01913        0.13769       -0.40443\n",
            "C          2.51231        0.19313       -0.35802\n",
            "O          3.08231        1.27429       -0.41365\n",
            "O          3.21693       -0.96805       -0.27870\n",
            "C          4.56598       -1.05189       -0.16288\n",
            "C          5.23336       -1.79195       -1.14927\n",
            "C          6.62311       -1.88730       -1.15700\n",
            "C          7.36905       -1.24141       -0.17671\n",
            "C          6.72749       -0.51277        0.82520\n",
            "C          5.31903       -0.41286        0.87056\n",
            "C          4.71467        0.33764        2.02122\n",
            "O          5.42266        1.06853        2.69726\n",
            "O          3.43070        0.17493        2.41078\n",
            "H          0.58885        1.15936       -0.47773\n",
            "H          0.63773       -0.34781        0.51779\n",
            "H          0.69792       -0.45267       -1.28760\n",
            "H          4.66652       -2.28245       -1.93106\n",
            "H          7.12285       -2.45537       -1.93107\n",
            "H          8.44916       -1.31242       -0.18633\n",
            "H          7.34231       -0.04184        1.58230\n",
            "H          2.84939       -0.51307        2.06709\n",
            "\n"
          ]
        }
      ]
    },
    {
      "cell_type": "code",
      "source": [],
      "metadata": {
        "id": "T-kApHhPK4ow"
      },
      "execution_count": null,
      "outputs": []
    }
  ]
}